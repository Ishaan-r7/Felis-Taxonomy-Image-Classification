{
 "cells": [
  {
   "cell_type": "markdown",
   "id": "d423f0be",
   "metadata": {},
   "source": [
    "# DL Assignment 2"
   ]
  },
  {
   "cell_type": "markdown",
   "id": "03ca193b",
   "metadata": {},
   "source": [
    "Ishaan Reddy\n",
    "SCDS\n",
    "210200019"
   ]
  },
  {
   "cell_type": "code",
   "execution_count": 90,
   "id": "fb45243b",
   "metadata": {},
   "outputs": [
    {
     "name": "stdout",
     "output_type": "stream",
     "text": [
      "2.10.1\n"
     ]
    }
   ],
   "source": [
    "import tensorflow as tf\n",
    "print(tf.__version__)\n",
    "\n",
    "from tensorflow import keras\n",
    "tf.random.set_seed(42)\n",
    "\n",
    "import numpy as np\n",
    "np.random.seed(42)\n",
    "\n",
    "import matplotlib.pyplot as plt\n",
    "%matplotlib inline\n",
    "\n",
    "import glob\n",
    "import PIL\n",
    "from PIL import Image"
   ]
  },
  {
   "cell_type": "code",
   "execution_count": 91,
   "id": "8044fbe2",
   "metadata": {},
   "outputs": [],
   "source": [
    "# load numpy array from npy file\n",
    "from numpy import load\n",
    "\n",
    "X_train_std = load('/content/drive/MyDrive/DL_Models/X_train_std.npy')\n",
    "X_test_std = load('/content/drive/MyDrive/DL_Models/X_test_std.npy')\n",
    "\n",
    "y_train = load('/content/drive/MyDrive/DL_Models/y_train.npy')\n",
    "y_test = load('/content/drive/MyDrive/DL_Models/y_test.npy')"
   ]
  },
  {
   "cell_type": "code",
   "execution_count": 92,
   "id": "af1777c8",
   "metadata": {},
   "outputs": [
    {
     "name": "stdout",
     "output_type": "stream",
     "text": [
      "X_train_std_shape: (389, 299, 299, 3)\n",
      "X_test_std_shape: (130, 299, 299, 3)\n"
     ]
    }
   ],
   "source": [
    "print(\"X_train_std_shape: {}\".format(X_train_std.shape))\n",
    "print(\"X_test_std_shape: {}\".format(X_test_std.shape))"
   ]
  },
  {
   "cell_type": "code",
   "execution_count": 93,
   "id": "b98b01ca",
   "metadata": {},
   "outputs": [],
   "source": [
    "ensemble_model1 = keras.models.load_model('/content/drive/MyDrive/DL_Models/01_Xception_FineTuned_Best_Model.h5')"
   ]
  },
  {
   "cell_type": "code",
   "execution_count": 94,
   "id": "87e03a34",
   "metadata": {},
   "outputs": [],
   "source": [
    "ensemble_model2 = keras.models.load_model('/content/drive/MyDrive/DL_Models/02_Xception_FineTuned_Best_Model.h5')"
   ]
  },
  {
   "cell_type": "code",
   "execution_count": 118,
   "id": "6e8941fd",
   "metadata": {},
   "outputs": [],
   "source": [
    "ensemble_model3 = keras.models.load_model('/content/drive/MyDrive/DL_Models/03_Xception_FineTuned_Best_Model.h5')"
   ]
  },
  {
   "cell_type": "markdown",
   "id": "8ffb2799",
   "metadata": {},
   "source": [
    "### Ensemble Model 1 "
   ]
  },
  {
   "cell_type": "code",
   "execution_count": 96,
   "id": "b61187d6",
   "metadata": {},
   "outputs": [
    {
     "name": "stdout",
     "output_type": "stream",
     "text": [
      "5/5 [==============================] - 15s 2s/step\n"
     ]
    }
   ],
   "source": [
    "y_proba1 = ensemble_model1.predict(X_test_std)"
   ]
  },
  {
   "cell_type": "code",
   "execution_count": 97,
   "id": "f0b29d07",
   "metadata": {},
   "outputs": [
    {
     "name": "stdout",
     "output_type": "stream",
     "text": [
      "[6 4 4 5 4 4 6 6 0 4 0 4 4 4 4 4 6 4 6 4 4 4 4 4 4 4 0 4 4 4 4 4 0 6 4 4 4\n",
      " 4 4 4 6 4 4 4 6 4 4 4 4 0 4 4 4 4 0 4 6 4 4 4 4 6 4 6 6 4 6 6 4 4 4 4 4 4\n",
      " 4 4 4 6 4 4 4 4 4 4 4 0 4 4 6 0 5 4 6 4 4 0 6 5 4 6 4 6 4 4 4 4 5 4 4 0 0\n",
      " 4 4 4 4 6 4 6 4 6 6 6 5 0 4 4 6 4 0 4]\n"
     ]
    }
   ],
   "source": [
    "y_predict = np.argmax(y_proba1, axis=-1)\n",
    "print(y_predict)"
   ]
  },
  {
   "cell_type": "code",
   "execution_count": 98,
   "id": "84a345dc",
   "metadata": {},
   "outputs": [
    {
     "data": {
      "text/plain": [
       "array([[ 2,  0,  0,  0, 14,  2,  5],\n",
       "       [ 1,  0,  0,  0, 18,  0,  1],\n",
       "       [ 1,  0,  0,  0,  6,  0,  3],\n",
       "       [ 2,  0,  0,  0, 13,  0,  1],\n",
       "       [ 0,  0,  0,  0, 19,  2,  0],\n",
       "       [ 4,  0,  0,  0,  5,  0, 13],\n",
       "       [ 3,  0,  0,  0, 11,  1,  3]], dtype=int64)"
      ]
     },
     "execution_count": 98,
     "metadata": {},
     "output_type": "execute_result"
    }
   ],
   "source": [
    "from sklearn.metrics import confusion_matrix\n",
    "confusion_matrix(y_true = y_test, y_pred = y_predict)"
   ]
  },
  {
   "cell_type": "code",
   "execution_count": 99,
   "id": "4f23a4a8",
   "metadata": {},
   "outputs": [
    {
     "data": {
      "image/png": "[encoded data removed]",
      "text/plain": [
       "<Figure size 600x600 with 1 Axes>"
      ]
     },
     "metadata": {},
     "output_type": "display_data"
    }
   ],
   "source": [
    "cm_1 = confusion_matrix(y_true = y_test, y_pred = y_predict)\n",
    "\n",
    "fig, ax = plt.subplots(figsize=(6, 6))\n",
    "ax.matshow(cm_1, cmap=plt.cm.Blues, alpha=0.3)\n",
    "\n",
    "for i in range(cm_1.shape[0]):\n",
    "    for j in range(cm_1.shape[1]):\n",
    "        ax.text(x=j, y=i, s=cm_1[i, j], va='center', ha='center')\n",
    "\n",
    "ax.title.set_text('CNN\\n')\n",
    "plt.xlabel('Predicted label')\n",
    "plt.ylabel('True label')\n",
    "\n",
    "plt.tight_layout()\n",
    "plt.savefig(\"ConfusionMatrix.png\", dpi=300, format='png', pad_inches=0.3)\n",
    "plt.show()"
   ]
  },
  {
   "cell_type": "markdown",
   "id": "49f526ed",
   "metadata": {},
   "source": [
    "{0, 1, 2, 3, 4, 5, 6}\n",
    "\n",
    "['african-wildcat' 'blackfoot-cat' 'chinese-mountain-cat' 'domestic-cat'\n",
    " 'european-wildcat' 'jungle-cat' 'sand-cat']"
   ]
  },
  {
   "cell_type": "code",
   "execution_count": 100,
   "id": "eb2b69de",
   "metadata": {},
   "outputs": [
    {
     "name": "stdout",
     "output_type": "stream",
     "text": [
      "Precision:  0.07888399614696573\n",
      "Recall:  0.18461538461538463\n",
      "F1-score:  0.09590803796411274\n"
     ]
    },
    {
     "name": "stderr",
     "output_type": "stream",
     "text": [
      "C:\\Users\\ishaa\\anaconda3\\lib\\site-packages\\sklearn\\metrics\\_classification.py:1248: UndefinedMetricWarning: Precision is ill-defined and being set to 0.0 in labels with no predicted samples. Use `zero_division` parameter to control this behavior.\n",
      "  _warn_prf(average, modifier, msg_start, len(result))\n"
     ]
    }
   ],
   "source": [
    "from sklearn.metrics import precision_score, recall_score, f1_score\n",
    "\n",
    "pScore1 = precision_score(y_true= y_test, y_pred = y_predict, average = 'weighted')\n",
    "print(\"Precision: \", pScore1)\n",
    "\n",
    "rScore1 = recall_score(y_true= y_test, y_pred = y_predict, average = 'weighted')\n",
    "print(\"Recall: \", rScore1)\n",
    "\n",
    "fScore1 = f1_score(y_true= y_test, y_pred = y_predict, average = 'weighted')\n",
    "print(\"F1-score: \", fScore1)"
   ]
  },
  {
   "cell_type": "markdown",
   "id": "1bfe1d59",
   "metadata": {},
   "source": [
    "### Ensemble Model 2 "
   ]
  },
  {
   "cell_type": "code",
   "execution_count": 101,
   "id": "838822ea",
   "metadata": {},
   "outputs": [
    {
     "name": "stdout",
     "output_type": "stream",
     "text": [
      "5/5 [==============================] - 28s 3s/step\n"
     ]
    }
   ],
   "source": [
    "y_proba2 = ensemble_model2.predict(X_test_std)"
   ]
  },
  {
   "cell_type": "code",
   "execution_count": 102,
   "id": "11f373c1",
   "metadata": {},
   "outputs": [
    {
     "name": "stdout",
     "output_type": "stream",
     "text": [
      "[2 2 4 4 5 1 1 5 5 1 5 5 6 1 5 1 6 4 5 4 4 5 1 6 4 1 6 5 4 4 1 1 6 5 4 6 1\n",
      " 4 4 6 5 5 1 5 5 5 4 4 5 5 5 4 4 6 5 5 5 6 5 5 6 5 4 4 5 6 5 5 1 1 6 5 5 6\n",
      " 5 5 5 4 4 6 5 0 2 5 1 5 5 6 5 5 6 2 5 4 6 6 5 4 4 5 5 5 1 6 1 6 5 4 6 1 1\n",
      " 6 6 5 4 5 5 5 6 6 6 5 5 2 1 6 5 4 5 0]\n"
     ]
    }
   ],
   "source": [
    "y_predict = np.argmax(y_proba2, axis=-1)\n",
    "print(y_predict)"
   ]
  },
  {
   "cell_type": "code",
   "execution_count": 103,
   "id": "ffe4c32e",
   "metadata": {},
   "outputs": [
    {
     "data": {
      "text/plain": [
       "array([[ 0,  0,  0,  0,  1, 22,  0],\n",
       "       [ 0, 17,  0,  0,  0,  1,  2],\n",
       "       [ 1,  1,  5,  0,  1,  1,  1],\n",
       "       [ 1,  0,  0,  0,  6,  6,  3],\n",
       "       [ 0,  0,  0,  0, 17,  1,  3],\n",
       "       [ 0,  1,  0,  0,  0, 21,  0],\n",
       "       [ 0,  0,  0,  0,  0,  0, 18]], dtype=int64)"
      ]
     },
     "execution_count": 103,
     "metadata": {},
     "output_type": "execute_result"
    }
   ],
   "source": [
    "from sklearn.metrics import confusion_matrix\n",
    "confusion_matrix(y_true = y_test, y_pred = y_predict)"
   ]
  },
  {
   "cell_type": "code",
   "execution_count": 104,
   "id": "3bf158a3",
   "metadata": {},
   "outputs": [
    {
     "data": {
      "image/png": "[encoded data removed]",
      "text/plain": [
       "<Figure size 600x600 with 1 Axes>"
      ]
     },
     "metadata": {},
     "output_type": "display_data"
    }
   ],
   "source": [
    "cm_2 = confusion_matrix(y_true = y_test, y_pred = y_predict)\n",
    "\n",
    "fig, ax = plt.subplots(figsize=(6, 6))\n",
    "ax.matshow(cm_2, cmap=plt.cm.Blues, alpha=0.3)\n",
    "\n",
    "for i in range(cm_2.shape[0]):\n",
    "    for j in range(cm_2.shape[1]):\n",
    "        ax.text(x=j, y=i, s=cm_2[i, j], va='center', ha='center')\n",
    "\n",
    "ax.title.set_text('CNN\\n')\n",
    "plt.xlabel('Predicted label')\n",
    "plt.ylabel('True label')\n",
    "\n",
    "plt.tight_layout()\n",
    "plt.savefig(\"ConfusionMatrix.png\", dpi=300, format='png', pad_inches=0.3)\n",
    "plt.show()"
   ]
  },
  {
   "cell_type": "markdown",
   "id": "5708f62e",
   "metadata": {},
   "source": [
    "{0, 1, 2, 3, 4, 5, 6}\n",
    "\n",
    "['african-wildcat' 'blackfoot-cat' 'chinese-mountain-cat' 'domestic-cat'\n",
    " 'european-wildcat' 'jungle-cat' 'sand-cat']"
   ]
  },
  {
   "cell_type": "code",
   "execution_count": 105,
   "id": "80cbc143",
   "metadata": {},
   "outputs": [
    {
     "name": "stdout",
     "output_type": "stream",
     "text": [
      "Precision:  0.48507194020554345\n",
      "Recall:  0.6\n",
      "F1-score:  0.5116214593806568\n"
     ]
    },
    {
     "name": "stderr",
     "output_type": "stream",
     "text": [
      "C:\\Users\\ishaa\\anaconda3\\lib\\site-packages\\sklearn\\metrics\\_classification.py:1248: UndefinedMetricWarning: Precision is ill-defined and being set to 0.0 in labels with no predicted samples. Use `zero_division` parameter to control this behavior.\n",
      "  _warn_prf(average, modifier, msg_start, len(result))\n"
     ]
    }
   ],
   "source": [
    "from sklearn.metrics import precision_score, recall_score, f1_score\n",
    "\n",
    "pScore2 = precision_score(y_true= y_test, y_pred = y_predict, average = 'weighted')\n",
    "print(\"Precision: \", pScore2)\n",
    "\n",
    "rScore2 = recall_score(y_true= y_test, y_pred = y_predict, average = 'weighted')\n",
    "print(\"Recall: \", rScore2)\n",
    "\n",
    "fScore2 = f1_score(y_true= y_test, y_pred = y_predict, average = 'weighted')\n",
    "print(\"F1-score: \", fScore2)"
   ]
  },
  {
   "cell_type": "markdown",
   "id": "809b0518",
   "metadata": {},
   "source": [
    "### Ensemble Model 3 "
   ]
  },
  {
   "cell_type": "code",
   "execution_count": 119,
   "id": "d8cb45ad",
   "metadata": {},
   "outputs": [
    {
     "name": "stdout",
     "output_type": "stream",
     "text": [
      "WARNING:tensorflow:5 out of the last 11 calls to <function Model.make_predict_function.<locals>.predict_function at 0x0000020E74E629D0> triggered tf.function retracing. Tracing is expensive and the excessive number of tracings could be due to (1) creating @tf.function repeatedly in a loop, (2) passing tensors with different shapes, (3) passing Python objects instead of tensors. For (1), please define your @tf.function outside of the loop. For (2), @tf.function has reduce_retracing=True option that can avoid unnecessary retracing. For (3), please refer to https://www.tensorflow.org/guide/function#controlling_retracing and https://www.tensorflow.org/api_docs/python/tf/function for  more details.\n",
      "5/5 [==============================] - 7s 773ms/step\n"
     ]
    }
   ],
   "source": [
    "y_proba3 = ensemble_model3.predict(X_test_std)"
   ]
  },
  {
   "cell_type": "code",
   "execution_count": 120,
   "id": "e16fdabd",
   "metadata": {},
   "outputs": [
    {
     "name": "stdout",
     "output_type": "stream",
     "text": [
      "[1 2 4 4 0 1 1 5 0 1 1 1 6 1 0 1 6 3 5 4 4 4 1 0 3 1 0 6 3 3 1 1 6 2 3 1 2\n",
      " 4 4 6 5 1 1 5 5 3 4 4 0 3 3 4 4 2 5 4 0 0 5 0 4 0 3 0 3 6 5 0 1 6 6 0 0 6\n",
      " 3 1 0 3 2 6 3 2 2 5 1 0 6 6 6 3 6 2 5 4 6 6 3 4 3 0 6 5 1 6 1 1 0 1 3 1 3\n",
      " 6 6 0 4 5 0 5 6 6 6 0 0 2 1 6 6 4 5 3]\n"
     ]
    }
   ],
   "source": [
    "y_predict = np.argmax(y_proba3, axis=-1)\n",
    "print(y_predict)"
   ]
  },
  {
   "cell_type": "code",
   "execution_count": 121,
   "id": "4f121940",
   "metadata": {},
   "outputs": [
    {
     "data": {
      "text/plain": [
       "array([[15,  4,  0,  3,  1,  0,  0],\n",
       "       [ 0, 19,  0,  0,  0,  0,  1],\n",
       "       [ 1,  1,  7,  0,  0,  0,  1],\n",
       "       [ 3,  0,  0, 10,  1,  0,  2],\n",
       "       [ 1,  0,  2,  2, 15,  1,  0],\n",
       "       [ 0,  0,  0,  4,  0, 13,  5],\n",
       "       [ 2,  0,  0,  0,  0,  0, 16]], dtype=int64)"
      ]
     },
     "execution_count": 121,
     "metadata": {},
     "output_type": "execute_result"
    }
   ],
   "source": [
    "from sklearn.metrics import confusion_matrix\n",
    "confusion_matrix(y_true = y_test, y_pred = y_predict)"
   ]
  },
  {
   "cell_type": "code",
   "execution_count": 122,
   "id": "934312e3",
   "metadata": {},
   "outputs": [
    {
     "data": {
      "image/png": "[encoded data removed]",
      "text/plain": [
       "<Figure size 600x600 with 1 Axes>"
      ]
     },
     "metadata": {},
     "output_type": "display_data"
    }
   ],
   "source": [
    "cm_3 = confusion_matrix(y_true = y_test, y_pred = y_predict)\n",
    "\n",
    "fig, ax = plt.subplots(figsize=(6, 6))\n",
    "ax.matshow(cm_3, cmap=plt.cm.Blues, alpha=0.3)\n",
    "\n",
    "for i in range(cm_3.shape[0]):\n",
    "    for j in range(cm_3.shape[1]):\n",
    "        ax.text(x=j, y=i, s=cm_3[i, j], va='center', ha='center')\n",
    "\n",
    "ax.title.set_text('CNN\\n')\n",
    "plt.xlabel('Predicted label')\n",
    "plt.ylabel('True label')\n",
    "\n",
    "plt.tight_layout()\n",
    "plt.savefig(\"ConfusionMatrix.png\", dpi=300, format='png', pad_inches=0.3)\n",
    "plt.show()"
   ]
  },
  {
   "cell_type": "markdown",
   "id": "feca4920",
   "metadata": {},
   "source": [
    "{0, 1, 2, 3, 4, 5, 6}\n",
    "\n",
    "['african-wildcat' 'blackfoot-cat' 'chinese-mountain-cat' 'domestic-cat'\n",
    " 'european-wildcat' 'jungle-cat' 'sand-cat']"
   ]
  },
  {
   "cell_type": "code",
   "execution_count": 123,
   "id": "483b7006",
   "metadata": {},
   "outputs": [
    {
     "name": "stdout",
     "output_type": "stream",
     "text": [
      "Precision:  0.7553228085983503\n",
      "Recall:  0.7307692307692307\n",
      "F1-score:  0.7306194145851428\n"
     ]
    }
   ],
   "source": [
    "from sklearn.metrics import precision_score, recall_score, f1_score\n",
    "\n",
    "pScore3 = precision_score(y_true= y_test, y_pred = y_predict, average = 'weighted')\n",
    "print(\"Precision: \", pScore3)\n",
    "\n",
    "rScore3 = recall_score(y_true= y_test, y_pred = y_predict, average = 'weighted')\n",
    "print(\"Recall: \", rScore3)\n",
    "\n",
    "fScore3 = f1_score(y_true= y_test, y_pred = y_predict, average = 'weighted')\n",
    "print(\"F1-score: \", fScore3)"
   ]
  },
  {
   "cell_type": "markdown",
   "id": "1678391f",
   "metadata": {},
   "source": [
    "### Predictions "
   ]
  },
  {
   "cell_type": "code",
   "execution_count": 141,
   "id": "821a36cc",
   "metadata": {},
   "outputs": [],
   "source": [
    "class_labels = ['african-wildcat', 'blackfoot-cat', 'chinese-mountain-cat', 'domestic-cat',\n",
    " 'european-wildcat', 'jungle-cat', 'sand-cat']"
   ]
  },
  {
   "cell_type": "code",
   "execution_count": 125,
   "id": "9935e91c",
   "metadata": {},
   "outputs": [
    {
     "name": "stdout",
     "output_type": "stream",
     "text": [
      "C:\\Users\\ishaa\\OneDrive\\Documents\\Deep Learning\\Felis_Taxonomy\\Felis_Taxonomy\\african-wildcat\\af (1).jpg\n",
      "C:\\Users\\ishaa\\OneDrive\\Documents\\Deep Learning\\Felis_Taxonomy\\Felis_Taxonomy\\african-wildcat\\af (10).jpg\n",
      "C:\\Users\\ishaa\\OneDrive\\Documents\\Deep Learning\\Felis_Taxonomy\\Felis_Taxonomy\\african-wildcat\\af (11).jpg\n",
      "C:\\Users\\ishaa\\OneDrive\\Documents\\Deep Learning\\Felis_Taxonomy\\Felis_Taxonomy\\african-wildcat\\af (12).jpg\n",
      "C:\\Users\\ishaa\\OneDrive\\Documents\\Deep Learning\\Felis_Taxonomy\\Felis_Taxonomy\\african-wildcat\\af (13).jpg\n",
      "C:\\Users\\ishaa\\OneDrive\\Documents\\Deep Learning\\Felis_Taxonomy\\Felis_Taxonomy\\african-wildcat\\af (14).jpg\n",
      "C:\\Users\\ishaa\\OneDrive\\Documents\\Deep Learning\\Felis_Taxonomy\\Felis_Taxonomy\\african-wildcat\\af (15).jpg\n",
      "C:\\Users\\ishaa\\OneDrive\\Documents\\Deep Learning\\Felis_Taxonomy\\Felis_Taxonomy\\african-wildcat\\af (16).jpg\n",
      "C:\\Users\\ishaa\\OneDrive\\Documents\\Deep Learning\\Felis_Taxonomy\\Felis_Taxonomy\\african-wildcat\\af (17).jpg\n",
      "C:\\Users\\ishaa\\OneDrive\\Documents\\Deep Learning\\Felis_Taxonomy\\Felis_Taxonomy\\african-wildcat\\af (18).jpg\n",
      "C:\\Users\\ishaa\\OneDrive\\Documents\\Deep Learning\\Felis_Taxonomy\\Felis_Taxonomy\\african-wildcat\\af (19).jpg\n",
      "C:\\Users\\ishaa\\OneDrive\\Documents\\Deep Learning\\Felis_Taxonomy\\Felis_Taxonomy\\african-wildcat\\af (2).jpg\n",
      "C:\\Users\\ishaa\\OneDrive\\Documents\\Deep Learning\\Felis_Taxonomy\\Felis_Taxonomy\\african-wildcat\\af (20).jpg\n",
      "C:\\Users\\ishaa\\OneDrive\\Documents\\Deep Learning\\Felis_Taxonomy\\Felis_Taxonomy\\african-wildcat\\af (21).jpg\n",
      "C:\\Users\\ishaa\\OneDrive\\Documents\\Deep Learning\\Felis_Taxonomy\\Felis_Taxonomy\\african-wildcat\\af (22).jpg\n",
      "C:\\Users\\ishaa\\OneDrive\\Documents\\Deep Learning\\Felis_Taxonomy\\Felis_Taxonomy\\african-wildcat\\af (23).jpg\n",
      "C:\\Users\\ishaa\\OneDrive\\Documents\\Deep Learning\\Felis_Taxonomy\\Felis_Taxonomy\\african-wildcat\\af (24).jpg\n",
      "C:\\Users\\ishaa\\OneDrive\\Documents\\Deep Learning\\Felis_Taxonomy\\Felis_Taxonomy\\african-wildcat\\af (25).jpg\n",
      "C:\\Users\\ishaa\\OneDrive\\Documents\\Deep Learning\\Felis_Taxonomy\\Felis_Taxonomy\\african-wildcat\\af (26).jpg\n",
      "C:\\Users\\ishaa\\OneDrive\\Documents\\Deep Learning\\Felis_Taxonomy\\Felis_Taxonomy\\african-wildcat\\af (27).jpg\n",
      "C:\\Users\\ishaa\\OneDrive\\Documents\\Deep Learning\\Felis_Taxonomy\\Felis_Taxonomy\\african-wildcat\\af (28).jpg\n",
      "C:\\Users\\ishaa\\OneDrive\\Documents\\Deep Learning\\Felis_Taxonomy\\Felis_Taxonomy\\african-wildcat\\af (29).jpg\n",
      "C:\\Users\\ishaa\\OneDrive\\Documents\\Deep Learning\\Felis_Taxonomy\\Felis_Taxonomy\\african-wildcat\\af (3).jpg\n",
      "C:\\Users\\ishaa\\OneDrive\\Documents\\Deep Learning\\Felis_Taxonomy\\Felis_Taxonomy\\african-wildcat\\af (30).jpg\n",
      "C:\\Users\\ishaa\\OneDrive\\Documents\\Deep Learning\\Felis_Taxonomy\\Felis_Taxonomy\\african-wildcat\\af (31).jpg\n",
      "C:\\Users\\ishaa\\OneDrive\\Documents\\Deep Learning\\Felis_Taxonomy\\Felis_Taxonomy\\african-wildcat\\af (32).jpg\n",
      "C:\\Users\\ishaa\\OneDrive\\Documents\\Deep Learning\\Felis_Taxonomy\\Felis_Taxonomy\\african-wildcat\\af (33).jpg\n",
      "C:\\Users\\ishaa\\OneDrive\\Documents\\Deep Learning\\Felis_Taxonomy\\Felis_Taxonomy\\african-wildcat\\af (34).jpg\n",
      "C:\\Users\\ishaa\\OneDrive\\Documents\\Deep Learning\\Felis_Taxonomy\\Felis_Taxonomy\\african-wildcat\\af (35).jpg\n",
      "C:\\Users\\ishaa\\OneDrive\\Documents\\Deep Learning\\Felis_Taxonomy\\Felis_Taxonomy\\african-wildcat\\af (36).jpg\n",
      "C:\\Users\\ishaa\\OneDrive\\Documents\\Deep Learning\\Felis_Taxonomy\\Felis_Taxonomy\\african-wildcat\\af (37).jpg\n",
      "C:\\Users\\ishaa\\OneDrive\\Documents\\Deep Learning\\Felis_Taxonomy\\Felis_Taxonomy\\african-wildcat\\af (38).jpg\n",
      "C:\\Users\\ishaa\\OneDrive\\Documents\\Deep Learning\\Felis_Taxonomy\\Felis_Taxonomy\\african-wildcat\\af (39).jpg\n",
      "C:\\Users\\ishaa\\OneDrive\\Documents\\Deep Learning\\Felis_Taxonomy\\Felis_Taxonomy\\african-wildcat\\af (4).jpg\n",
      "C:\\Users\\ishaa\\OneDrive\\Documents\\Deep Learning\\Felis_Taxonomy\\Felis_Taxonomy\\african-wildcat\\af (40).jpg\n",
      "C:\\Users\\ishaa\\OneDrive\\Documents\\Deep Learning\\Felis_Taxonomy\\Felis_Taxonomy\\african-wildcat\\af (41).jpg\n",
      "C:\\Users\\ishaa\\OneDrive\\Documents\\Deep Learning\\Felis_Taxonomy\\Felis_Taxonomy\\african-wildcat\\af (42).jpg\n",
      "C:\\Users\\ishaa\\OneDrive\\Documents\\Deep Learning\\Felis_Taxonomy\\Felis_Taxonomy\\african-wildcat\\af (43).jpg\n",
      "C:\\Users\\ishaa\\OneDrive\\Documents\\Deep Learning\\Felis_Taxonomy\\Felis_Taxonomy\\african-wildcat\\af (44).jpg\n",
      "C:\\Users\\ishaa\\OneDrive\\Documents\\Deep Learning\\Felis_Taxonomy\\Felis_Taxonomy\\african-wildcat\\af (45).jpg\n",
      "C:\\Users\\ishaa\\OneDrive\\Documents\\Deep Learning\\Felis_Taxonomy\\Felis_Taxonomy\\african-wildcat\\af (46).jpg\n",
      "C:\\Users\\ishaa\\OneDrive\\Documents\\Deep Learning\\Felis_Taxonomy\\Felis_Taxonomy\\african-wildcat\\af (47).jpg\n",
      "C:\\Users\\ishaa\\OneDrive\\Documents\\Deep Learning\\Felis_Taxonomy\\Felis_Taxonomy\\african-wildcat\\af (48).jpg\n",
      "C:\\Users\\ishaa\\OneDrive\\Documents\\Deep Learning\\Felis_Taxonomy\\Felis_Taxonomy\\african-wildcat\\af (49).jpg\n",
      "C:\\Users\\ishaa\\OneDrive\\Documents\\Deep Learning\\Felis_Taxonomy\\Felis_Taxonomy\\african-wildcat\\af (5).jpg\n",
      "C:\\Users\\ishaa\\OneDrive\\Documents\\Deep Learning\\Felis_Taxonomy\\Felis_Taxonomy\\african-wildcat\\af (50).jpg\n",
      "C:\\Users\\ishaa\\OneDrive\\Documents\\Deep Learning\\Felis_Taxonomy\\Felis_Taxonomy\\african-wildcat\\af (51).jpg\n",
      "C:\\Users\\ishaa\\OneDrive\\Documents\\Deep Learning\\Felis_Taxonomy\\Felis_Taxonomy\\african-wildcat\\af (52).jpg\n",
      "C:\\Users\\ishaa\\OneDrive\\Documents\\Deep Learning\\Felis_Taxonomy\\Felis_Taxonomy\\african-wildcat\\af (53).jpg\n",
      "C:\\Users\\ishaa\\OneDrive\\Documents\\Deep Learning\\Felis_Taxonomy\\Felis_Taxonomy\\african-wildcat\\af (54).jpg\n",
      "C:\\Users\\ishaa\\OneDrive\\Documents\\Deep Learning\\Felis_Taxonomy\\Felis_Taxonomy\\african-wildcat\\af (55).jpg\n",
      "C:\\Users\\ishaa\\OneDrive\\Documents\\Deep Learning\\Felis_Taxonomy\\Felis_Taxonomy\\african-wildcat\\af (56).jpg\n",
      "C:\\Users\\ishaa\\OneDrive\\Documents\\Deep Learning\\Felis_Taxonomy\\Felis_Taxonomy\\african-wildcat\\af (57).jpg\n",
      "C:\\Users\\ishaa\\OneDrive\\Documents\\Deep Learning\\Felis_Taxonomy\\Felis_Taxonomy\\african-wildcat\\af (58).jpg\n",
      "C:\\Users\\ishaa\\OneDrive\\Documents\\Deep Learning\\Felis_Taxonomy\\Felis_Taxonomy\\african-wildcat\\af (59).jpg\n",
      "C:\\Users\\ishaa\\OneDrive\\Documents\\Deep Learning\\Felis_Taxonomy\\Felis_Taxonomy\\african-wildcat\\af (6).jpg\n",
      "C:\\Users\\ishaa\\OneDrive\\Documents\\Deep Learning\\Felis_Taxonomy\\Felis_Taxonomy\\african-wildcat\\af (60).jpg\n",
      "C:\\Users\\ishaa\\OneDrive\\Documents\\Deep Learning\\Felis_Taxonomy\\Felis_Taxonomy\\african-wildcat\\af (61).jpg\n",
      "C:\\Users\\ishaa\\OneDrive\\Documents\\Deep Learning\\Felis_Taxonomy\\Felis_Taxonomy\\african-wildcat\\af (62).jpg\n",
      "C:\\Users\\ishaa\\OneDrive\\Documents\\Deep Learning\\Felis_Taxonomy\\Felis_Taxonomy\\african-wildcat\\af (63).jpg\n",
      "C:\\Users\\ishaa\\OneDrive\\Documents\\Deep Learning\\Felis_Taxonomy\\Felis_Taxonomy\\african-wildcat\\af (64).jpg\n",
      "C:\\Users\\ishaa\\OneDrive\\Documents\\Deep Learning\\Felis_Taxonomy\\Felis_Taxonomy\\african-wildcat\\af (65).jpg\n",
      "C:\\Users\\ishaa\\OneDrive\\Documents\\Deep Learning\\Felis_Taxonomy\\Felis_Taxonomy\\african-wildcat\\af (66).jpg\n",
      "C:\\Users\\ishaa\\OneDrive\\Documents\\Deep Learning\\Felis_Taxonomy\\Felis_Taxonomy\\african-wildcat\\af (67).jpg\n",
      "C:\\Users\\ishaa\\OneDrive\\Documents\\Deep Learning\\Felis_Taxonomy\\Felis_Taxonomy\\african-wildcat\\af (68).jpg\n",
      "C:\\Users\\ishaa\\OneDrive\\Documents\\Deep Learning\\Felis_Taxonomy\\Felis_Taxonomy\\african-wildcat\\af (69).jpg\n",
      "C:\\Users\\ishaa\\OneDrive\\Documents\\Deep Learning\\Felis_Taxonomy\\Felis_Taxonomy\\african-wildcat\\af (7).jpg\n",
      "C:\\Users\\ishaa\\OneDrive\\Documents\\Deep Learning\\Felis_Taxonomy\\Felis_Taxonomy\\african-wildcat\\af (70).jpg\n",
      "C:\\Users\\ishaa\\OneDrive\\Documents\\Deep Learning\\Felis_Taxonomy\\Felis_Taxonomy\\african-wildcat\\af (71).jpg\n",
      "C:\\Users\\ishaa\\OneDrive\\Documents\\Deep Learning\\Felis_Taxonomy\\Felis_Taxonomy\\african-wildcat\\af (72).jpg\n",
      "C:\\Users\\ishaa\\OneDrive\\Documents\\Deep Learning\\Felis_Taxonomy\\Felis_Taxonomy\\african-wildcat\\af (73).jpg\n",
      "C:\\Users\\ishaa\\OneDrive\\Documents\\Deep Learning\\Felis_Taxonomy\\Felis_Taxonomy\\african-wildcat\\af (74).jpg\n",
      "C:\\Users\\ishaa\\OneDrive\\Documents\\Deep Learning\\Felis_Taxonomy\\Felis_Taxonomy\\african-wildcat\\af (75).jpg\n",
      "C:\\Users\\ishaa\\OneDrive\\Documents\\Deep Learning\\Felis_Taxonomy\\Felis_Taxonomy\\african-wildcat\\af (76).jpg\n",
      "C:\\Users\\ishaa\\OneDrive\\Documents\\Deep Learning\\Felis_Taxonomy\\Felis_Taxonomy\\african-wildcat\\af (77).jpg\n",
      "C:\\Users\\ishaa\\OneDrive\\Documents\\Deep Learning\\Felis_Taxonomy\\Felis_Taxonomy\\african-wildcat\\af (78).jpg\n",
      "C:\\Users\\ishaa\\OneDrive\\Documents\\Deep Learning\\Felis_Taxonomy\\Felis_Taxonomy\\african-wildcat\\af (79).jpg\n",
      "C:\\Users\\ishaa\\OneDrive\\Documents\\Deep Learning\\Felis_Taxonomy\\Felis_Taxonomy\\african-wildcat\\af (8).jpg\n",
      "C:\\Users\\ishaa\\OneDrive\\Documents\\Deep Learning\\Felis_Taxonomy\\Felis_Taxonomy\\african-wildcat\\af (80).jpg\n",
      "C:\\Users\\ishaa\\OneDrive\\Documents\\Deep Learning\\Felis_Taxonomy\\Felis_Taxonomy\\african-wildcat\\af (81).jpg\n",
      "C:\\Users\\ishaa\\OneDrive\\Documents\\Deep Learning\\Felis_Taxonomy\\Felis_Taxonomy\\african-wildcat\\af (82).jpg\n",
      "C:\\Users\\ishaa\\OneDrive\\Documents\\Deep Learning\\Felis_Taxonomy\\Felis_Taxonomy\\african-wildcat\\af (83).jpg\n",
      "C:\\Users\\ishaa\\OneDrive\\Documents\\Deep Learning\\Felis_Taxonomy\\Felis_Taxonomy\\african-wildcat\\af (84).jpg\n",
      "C:\\Users\\ishaa\\OneDrive\\Documents\\Deep Learning\\Felis_Taxonomy\\Felis_Taxonomy\\african-wildcat\\af (85).jpg\n",
      "C:\\Users\\ishaa\\OneDrive\\Documents\\Deep Learning\\Felis_Taxonomy\\Felis_Taxonomy\\african-wildcat\\af (86).jpg\n",
      "C:\\Users\\ishaa\\OneDrive\\Documents\\Deep Learning\\Felis_Taxonomy\\Felis_Taxonomy\\african-wildcat\\af (87).jpg\n",
      "C:\\Users\\ishaa\\OneDrive\\Documents\\Deep Learning\\Felis_Taxonomy\\Felis_Taxonomy\\african-wildcat\\af (88).jpg\n",
      "C:\\Users\\ishaa\\OneDrive\\Documents\\Deep Learning\\Felis_Taxonomy\\Felis_Taxonomy\\african-wildcat\\af (89).jpg\n",
      "C:\\Users\\ishaa\\OneDrive\\Documents\\Deep Learning\\Felis_Taxonomy\\Felis_Taxonomy\\african-wildcat\\af (9).jpg\n",
      "C:\\Users\\ishaa\\OneDrive\\Documents\\Deep Learning\\Felis_Taxonomy\\Felis_Taxonomy\\african-wildcat\\af (90).jpg\n",
      "C:\\Users\\ishaa\\OneDrive\\Documents\\Deep Learning\\Felis_Taxonomy\\Felis_Taxonomy\\african-wildcat\\af (91).jpg\n",
      "C:\\Users\\ishaa\\OneDrive\\Documents\\Deep Learning\\Felis_Taxonomy\\Felis_Taxonomy\\blackfoot-cat\\bc (1).jpg\n",
      "C:\\Users\\ishaa\\OneDrive\\Documents\\Deep Learning\\Felis_Taxonomy\\Felis_Taxonomy\\blackfoot-cat\\bc (10).jpg\n",
      "C:\\Users\\ishaa\\OneDrive\\Documents\\Deep Learning\\Felis_Taxonomy\\Felis_Taxonomy\\blackfoot-cat\\bc (11).jpg\n",
      "C:\\Users\\ishaa\\OneDrive\\Documents\\Deep Learning\\Felis_Taxonomy\\Felis_Taxonomy\\blackfoot-cat\\bc (12).jpg\n",
      "C:\\Users\\ishaa\\OneDrive\\Documents\\Deep Learning\\Felis_Taxonomy\\Felis_Taxonomy\\blackfoot-cat\\bc (13).jpg\n",
      "C:\\Users\\ishaa\\OneDrive\\Documents\\Deep Learning\\Felis_Taxonomy\\Felis_Taxonomy\\blackfoot-cat\\bc (14).jpg\n",
      "C:\\Users\\ishaa\\OneDrive\\Documents\\Deep Learning\\Felis_Taxonomy\\Felis_Taxonomy\\blackfoot-cat\\bc (15).jpg\n",
      "C:\\Users\\ishaa\\OneDrive\\Documents\\Deep Learning\\Felis_Taxonomy\\Felis_Taxonomy\\blackfoot-cat\\bc (16).jpg\n",
      "C:\\Users\\ishaa\\OneDrive\\Documents\\Deep Learning\\Felis_Taxonomy\\Felis_Taxonomy\\blackfoot-cat\\bc (17).jpg\n",
      "C:\\Users\\ishaa\\OneDrive\\Documents\\Deep Learning\\Felis_Taxonomy\\Felis_Taxonomy\\blackfoot-cat\\bc (18).jpg\n",
      "C:\\Users\\ishaa\\OneDrive\\Documents\\Deep Learning\\Felis_Taxonomy\\Felis_Taxonomy\\blackfoot-cat\\bc (19).jpg\n",
      "C:\\Users\\ishaa\\OneDrive\\Documents\\Deep Learning\\Felis_Taxonomy\\Felis_Taxonomy\\blackfoot-cat\\bc (2).jpg\n",
      "C:\\Users\\ishaa\\OneDrive\\Documents\\Deep Learning\\Felis_Taxonomy\\Felis_Taxonomy\\blackfoot-cat\\bc (20).jpg\n",
      "C:\\Users\\ishaa\\OneDrive\\Documents\\Deep Learning\\Felis_Taxonomy\\Felis_Taxonomy\\blackfoot-cat\\bc (21).jpg\n",
      "C:\\Users\\ishaa\\OneDrive\\Documents\\Deep Learning\\Felis_Taxonomy\\Felis_Taxonomy\\blackfoot-cat\\bc (22).jpg\n",
      "C:\\Users\\ishaa\\OneDrive\\Documents\\Deep Learning\\Felis_Taxonomy\\Felis_Taxonomy\\blackfoot-cat\\bc (23).jpg\n",
      "C:\\Users\\ishaa\\OneDrive\\Documents\\Deep Learning\\Felis_Taxonomy\\Felis_Taxonomy\\blackfoot-cat\\bc (24).jpg\n",
      "C:\\Users\\ishaa\\OneDrive\\Documents\\Deep Learning\\Felis_Taxonomy\\Felis_Taxonomy\\blackfoot-cat\\bc (25).jpg\n",
      "C:\\Users\\ishaa\\OneDrive\\Documents\\Deep Learning\\Felis_Taxonomy\\Felis_Taxonomy\\blackfoot-cat\\bc (26).jpg\n",
      "C:\\Users\\ishaa\\OneDrive\\Documents\\Deep Learning\\Felis_Taxonomy\\Felis_Taxonomy\\blackfoot-cat\\bc (27).jpg\n",
      "C:\\Users\\ishaa\\OneDrive\\Documents\\Deep Learning\\Felis_Taxonomy\\Felis_Taxonomy\\blackfoot-cat\\bc (28).jpg\n",
      "C:\\Users\\ishaa\\OneDrive\\Documents\\Deep Learning\\Felis_Taxonomy\\Felis_Taxonomy\\blackfoot-cat\\bc (29).jpg\n",
      "C:\\Users\\ishaa\\OneDrive\\Documents\\Deep Learning\\Felis_Taxonomy\\Felis_Taxonomy\\blackfoot-cat\\bc (3).jpg\n",
      "C:\\Users\\ishaa\\OneDrive\\Documents\\Deep Learning\\Felis_Taxonomy\\Felis_Taxonomy\\blackfoot-cat\\bc (30).jpg\n",
      "C:\\Users\\ishaa\\OneDrive\\Documents\\Deep Learning\\Felis_Taxonomy\\Felis_Taxonomy\\blackfoot-cat\\bc (31).jpg\n",
      "C:\\Users\\ishaa\\OneDrive\\Documents\\Deep Learning\\Felis_Taxonomy\\Felis_Taxonomy\\blackfoot-cat\\bc (32).jpg\n",
      "C:\\Users\\ishaa\\OneDrive\\Documents\\Deep Learning\\Felis_Taxonomy\\Felis_Taxonomy\\blackfoot-cat\\bc (33).jpg\n",
      "C:\\Users\\ishaa\\OneDrive\\Documents\\Deep Learning\\Felis_Taxonomy\\Felis_Taxonomy\\blackfoot-cat\\bc (34).jpg\n",
      "C:\\Users\\ishaa\\OneDrive\\Documents\\Deep Learning\\Felis_Taxonomy\\Felis_Taxonomy\\blackfoot-cat\\bc (35).jpg\n",
      "C:\\Users\\ishaa\\OneDrive\\Documents\\Deep Learning\\Felis_Taxonomy\\Felis_Taxonomy\\blackfoot-cat\\bc (36).jpg\n",
      "C:\\Users\\ishaa\\OneDrive\\Documents\\Deep Learning\\Felis_Taxonomy\\Felis_Taxonomy\\blackfoot-cat\\bc (37).jpg\n",
      "C:\\Users\\ishaa\\OneDrive\\Documents\\Deep Learning\\Felis_Taxonomy\\Felis_Taxonomy\\blackfoot-cat\\bc (38).jpg\n",
      "C:\\Users\\ishaa\\OneDrive\\Documents\\Deep Learning\\Felis_Taxonomy\\Felis_Taxonomy\\blackfoot-cat\\bc (39).jpg\n",
      "C:\\Users\\ishaa\\OneDrive\\Documents\\Deep Learning\\Felis_Taxonomy\\Felis_Taxonomy\\blackfoot-cat\\bc (4).jpg\n",
      "C:\\Users\\ishaa\\OneDrive\\Documents\\Deep Learning\\Felis_Taxonomy\\Felis_Taxonomy\\blackfoot-cat\\bc (40).jpg\n",
      "C:\\Users\\ishaa\\OneDrive\\Documents\\Deep Learning\\Felis_Taxonomy\\Felis_Taxonomy\\blackfoot-cat\\bc (41).jpg\n",
      "C:\\Users\\ishaa\\OneDrive\\Documents\\Deep Learning\\Felis_Taxonomy\\Felis_Taxonomy\\blackfoot-cat\\bc (42).jpg\n",
      "C:\\Users\\ishaa\\OneDrive\\Documents\\Deep Learning\\Felis_Taxonomy\\Felis_Taxonomy\\blackfoot-cat\\bc (43).jpg\n",
      "C:\\Users\\ishaa\\OneDrive\\Documents\\Deep Learning\\Felis_Taxonomy\\Felis_Taxonomy\\blackfoot-cat\\bc (44).jpg\n",
      "C:\\Users\\ishaa\\OneDrive\\Documents\\Deep Learning\\Felis_Taxonomy\\Felis_Taxonomy\\blackfoot-cat\\bc (45).jpg\n",
      "C:\\Users\\ishaa\\OneDrive\\Documents\\Deep Learning\\Felis_Taxonomy\\Felis_Taxonomy\\blackfoot-cat\\bc (46).jpg\n",
      "C:\\Users\\ishaa\\OneDrive\\Documents\\Deep Learning\\Felis_Taxonomy\\Felis_Taxonomy\\blackfoot-cat\\bc (47).jpg\n",
      "C:\\Users\\ishaa\\OneDrive\\Documents\\Deep Learning\\Felis_Taxonomy\\Felis_Taxonomy\\blackfoot-cat\\bc (48).jpg\n",
      "C:\\Users\\ishaa\\OneDrive\\Documents\\Deep Learning\\Felis_Taxonomy\\Felis_Taxonomy\\blackfoot-cat\\bc (49).jpg\n",
      "C:\\Users\\ishaa\\OneDrive\\Documents\\Deep Learning\\Felis_Taxonomy\\Felis_Taxonomy\\blackfoot-cat\\bc (5).jpg\n",
      "C:\\Users\\ishaa\\OneDrive\\Documents\\Deep Learning\\Felis_Taxonomy\\Felis_Taxonomy\\blackfoot-cat\\bc (50).jpg\n",
      "C:\\Users\\ishaa\\OneDrive\\Documents\\Deep Learning\\Felis_Taxonomy\\Felis_Taxonomy\\blackfoot-cat\\bc (51).jpg\n",
      "C:\\Users\\ishaa\\OneDrive\\Documents\\Deep Learning\\Felis_Taxonomy\\Felis_Taxonomy\\blackfoot-cat\\bc (52).jpg\n",
      "C:\\Users\\ishaa\\OneDrive\\Documents\\Deep Learning\\Felis_Taxonomy\\Felis_Taxonomy\\blackfoot-cat\\bc (53).jpg\n",
      "C:\\Users\\ishaa\\OneDrive\\Documents\\Deep Learning\\Felis_Taxonomy\\Felis_Taxonomy\\blackfoot-cat\\bc (54).jpg\n",
      "C:\\Users\\ishaa\\OneDrive\\Documents\\Deep Learning\\Felis_Taxonomy\\Felis_Taxonomy\\blackfoot-cat\\bc (55).jpg\n",
      "C:\\Users\\ishaa\\OneDrive\\Documents\\Deep Learning\\Felis_Taxonomy\\Felis_Taxonomy\\blackfoot-cat\\bc (56).jpg\n",
      "C:\\Users\\ishaa\\OneDrive\\Documents\\Deep Learning\\Felis_Taxonomy\\Felis_Taxonomy\\blackfoot-cat\\bc (57).jpg\n",
      "C:\\Users\\ishaa\\OneDrive\\Documents\\Deep Learning\\Felis_Taxonomy\\Felis_Taxonomy\\blackfoot-cat\\bc (58).jpg\n",
      "C:\\Users\\ishaa\\OneDrive\\Documents\\Deep Learning\\Felis_Taxonomy\\Felis_Taxonomy\\blackfoot-cat\\bc (59).jpg\n",
      "C:\\Users\\ishaa\\OneDrive\\Documents\\Deep Learning\\Felis_Taxonomy\\Felis_Taxonomy\\blackfoot-cat\\bc (6).jpg\n",
      "C:\\Users\\ishaa\\OneDrive\\Documents\\Deep Learning\\Felis_Taxonomy\\Felis_Taxonomy\\blackfoot-cat\\bc (60).jpg\n",
      "C:\\Users\\ishaa\\OneDrive\\Documents\\Deep Learning\\Felis_Taxonomy\\Felis_Taxonomy\\blackfoot-cat\\bc (61).jpg\n",
      "C:\\Users\\ishaa\\OneDrive\\Documents\\Deep Learning\\Felis_Taxonomy\\Felis_Taxonomy\\blackfoot-cat\\bc (62).jpg\n",
      "C:\\Users\\ishaa\\OneDrive\\Documents\\Deep Learning\\Felis_Taxonomy\\Felis_Taxonomy\\blackfoot-cat\\bc (63).jpg\n",
      "C:\\Users\\ishaa\\OneDrive\\Documents\\Deep Learning\\Felis_Taxonomy\\Felis_Taxonomy\\blackfoot-cat\\bc (64).jpg\n",
      "C:\\Users\\ishaa\\OneDrive\\Documents\\Deep Learning\\Felis_Taxonomy\\Felis_Taxonomy\\blackfoot-cat\\bc (65).jpg\n",
      "C:\\Users\\ishaa\\OneDrive\\Documents\\Deep Learning\\Felis_Taxonomy\\Felis_Taxonomy\\blackfoot-cat\\bc (66).jpg\n",
      "C:\\Users\\ishaa\\OneDrive\\Documents\\Deep Learning\\Felis_Taxonomy\\Felis_Taxonomy\\blackfoot-cat\\bc (67).jpg\n",
      "C:\\Users\\ishaa\\OneDrive\\Documents\\Deep Learning\\Felis_Taxonomy\\Felis_Taxonomy\\blackfoot-cat\\bc (68).jpg\n",
      "C:\\Users\\ishaa\\OneDrive\\Documents\\Deep Learning\\Felis_Taxonomy\\Felis_Taxonomy\\blackfoot-cat\\bc (69).jpg\n",
      "C:\\Users\\ishaa\\OneDrive\\Documents\\Deep Learning\\Felis_Taxonomy\\Felis_Taxonomy\\blackfoot-cat\\bc (7).jpg\n",
      "C:\\Users\\ishaa\\OneDrive\\Documents\\Deep Learning\\Felis_Taxonomy\\Felis_Taxonomy\\blackfoot-cat\\bc (70).jpg\n",
      "C:\\Users\\ishaa\\OneDrive\\Documents\\Deep Learning\\Felis_Taxonomy\\Felis_Taxonomy\\blackfoot-cat\\bc (71).jpg\n",
      "C:\\Users\\ishaa\\OneDrive\\Documents\\Deep Learning\\Felis_Taxonomy\\Felis_Taxonomy\\blackfoot-cat\\bc (72).jpg\n",
      "C:\\Users\\ishaa\\OneDrive\\Documents\\Deep Learning\\Felis_Taxonomy\\Felis_Taxonomy\\blackfoot-cat\\bc (73).jpg\n",
      "C:\\Users\\ishaa\\OneDrive\\Documents\\Deep Learning\\Felis_Taxonomy\\Felis_Taxonomy\\blackfoot-cat\\bc (74).jpg\n",
      "C:\\Users\\ishaa\\OneDrive\\Documents\\Deep Learning\\Felis_Taxonomy\\Felis_Taxonomy\\blackfoot-cat\\bc (75).jpg\n",
      "C:\\Users\\ishaa\\OneDrive\\Documents\\Deep Learning\\Felis_Taxonomy\\Felis_Taxonomy\\blackfoot-cat\\bc (76).jpg\n",
      "C:\\Users\\ishaa\\OneDrive\\Documents\\Deep Learning\\Felis_Taxonomy\\Felis_Taxonomy\\blackfoot-cat\\bc (77).jpg\n",
      "C:\\Users\\ishaa\\OneDrive\\Documents\\Deep Learning\\Felis_Taxonomy\\Felis_Taxonomy\\blackfoot-cat\\bc (78).jpg\n",
      "C:\\Users\\ishaa\\OneDrive\\Documents\\Deep Learning\\Felis_Taxonomy\\Felis_Taxonomy\\blackfoot-cat\\bc (79).jpg\n",
      "C:\\Users\\ishaa\\OneDrive\\Documents\\Deep Learning\\Felis_Taxonomy\\Felis_Taxonomy\\blackfoot-cat\\bc (8).jpg\n",
      "C:\\Users\\ishaa\\OneDrive\\Documents\\Deep Learning\\Felis_Taxonomy\\Felis_Taxonomy\\blackfoot-cat\\bc (9).jpg\n",
      "C:\\Users\\ishaa\\OneDrive\\Documents\\Deep Learning\\Felis_Taxonomy\\Felis_Taxonomy\\chinese-mountain-cat\\ch (1).jpg\n",
      "C:\\Users\\ishaa\\OneDrive\\Documents\\Deep Learning\\Felis_Taxonomy\\Felis_Taxonomy\\chinese-mountain-cat\\ch (10).jpg\n",
      "C:\\Users\\ishaa\\OneDrive\\Documents\\Deep Learning\\Felis_Taxonomy\\Felis_Taxonomy\\chinese-mountain-cat\\ch (11).jpg\n",
      "C:\\Users\\ishaa\\OneDrive\\Documents\\Deep Learning\\Felis_Taxonomy\\Felis_Taxonomy\\chinese-mountain-cat\\ch (12).jpg\n",
      "C:\\Users\\ishaa\\OneDrive\\Documents\\Deep Learning\\Felis_Taxonomy\\Felis_Taxonomy\\chinese-mountain-cat\\ch (13).jpg\n",
      "C:\\Users\\ishaa\\OneDrive\\Documents\\Deep Learning\\Felis_Taxonomy\\Felis_Taxonomy\\chinese-mountain-cat\\ch (14).jpg\n",
      "C:\\Users\\ishaa\\OneDrive\\Documents\\Deep Learning\\Felis_Taxonomy\\Felis_Taxonomy\\chinese-mountain-cat\\ch (15).jpg\n",
      "C:\\Users\\ishaa\\OneDrive\\Documents\\Deep Learning\\Felis_Taxonomy\\Felis_Taxonomy\\chinese-mountain-cat\\ch (16).jpg\n",
      "C:\\Users\\ishaa\\OneDrive\\Documents\\Deep Learning\\Felis_Taxonomy\\Felis_Taxonomy\\chinese-mountain-cat\\ch (17).jpg\n",
      "C:\\Users\\ishaa\\OneDrive\\Documents\\Deep Learning\\Felis_Taxonomy\\Felis_Taxonomy\\chinese-mountain-cat\\ch (18).jpg\n",
      "C:\\Users\\ishaa\\OneDrive\\Documents\\Deep Learning\\Felis_Taxonomy\\Felis_Taxonomy\\chinese-mountain-cat\\ch (19).jpg\n",
      "C:\\Users\\ishaa\\OneDrive\\Documents\\Deep Learning\\Felis_Taxonomy\\Felis_Taxonomy\\chinese-mountain-cat\\ch (2).jpg\n",
      "C:\\Users\\ishaa\\OneDrive\\Documents\\Deep Learning\\Felis_Taxonomy\\Felis_Taxonomy\\chinese-mountain-cat\\ch (20).jpg\n",
      "C:\\Users\\ishaa\\OneDrive\\Documents\\Deep Learning\\Felis_Taxonomy\\Felis_Taxonomy\\chinese-mountain-cat\\ch (21).jpg\n",
      "C:\\Users\\ishaa\\OneDrive\\Documents\\Deep Learning\\Felis_Taxonomy\\Felis_Taxonomy\\chinese-mountain-cat\\ch (22).jpg\n",
      "C:\\Users\\ishaa\\OneDrive\\Documents\\Deep Learning\\Felis_Taxonomy\\Felis_Taxonomy\\chinese-mountain-cat\\ch (23).jpg\n",
      "C:\\Users\\ishaa\\OneDrive\\Documents\\Deep Learning\\Felis_Taxonomy\\Felis_Taxonomy\\chinese-mountain-cat\\ch (24).jpg\n",
      "C:\\Users\\ishaa\\OneDrive\\Documents\\Deep Learning\\Felis_Taxonomy\\Felis_Taxonomy\\chinese-mountain-cat\\ch (25).jpg\n",
      "C:\\Users\\ishaa\\OneDrive\\Documents\\Deep Learning\\Felis_Taxonomy\\Felis_Taxonomy\\chinese-mountain-cat\\ch (26).jpg\n",
      "C:\\Users\\ishaa\\OneDrive\\Documents\\Deep Learning\\Felis_Taxonomy\\Felis_Taxonomy\\chinese-mountain-cat\\ch (27).jpg\n",
      "C:\\Users\\ishaa\\OneDrive\\Documents\\Deep Learning\\Felis_Taxonomy\\Felis_Taxonomy\\chinese-mountain-cat\\ch (28).jpg\n",
      "C:\\Users\\ishaa\\OneDrive\\Documents\\Deep Learning\\Felis_Taxonomy\\Felis_Taxonomy\\chinese-mountain-cat\\ch (29).jpg\n",
      "C:\\Users\\ishaa\\OneDrive\\Documents\\Deep Learning\\Felis_Taxonomy\\Felis_Taxonomy\\chinese-mountain-cat\\ch (3).jpg\n",
      "C:\\Users\\ishaa\\OneDrive\\Documents\\Deep Learning\\Felis_Taxonomy\\Felis_Taxonomy\\chinese-mountain-cat\\ch (30).jpg\n",
      "C:\\Users\\ishaa\\OneDrive\\Documents\\Deep Learning\\Felis_Taxonomy\\Felis_Taxonomy\\chinese-mountain-cat\\ch (31).jpg\n",
      "C:\\Users\\ishaa\\OneDrive\\Documents\\Deep Learning\\Felis_Taxonomy\\Felis_Taxonomy\\chinese-mountain-cat\\ch (32).jpg\n",
      "C:\\Users\\ishaa\\OneDrive\\Documents\\Deep Learning\\Felis_Taxonomy\\Felis_Taxonomy\\chinese-mountain-cat\\ch (33).jpg\n",
      "C:\\Users\\ishaa\\OneDrive\\Documents\\Deep Learning\\Felis_Taxonomy\\Felis_Taxonomy\\chinese-mountain-cat\\ch (34).jpg\n",
      "C:\\Users\\ishaa\\OneDrive\\Documents\\Deep Learning\\Felis_Taxonomy\\Felis_Taxonomy\\chinese-mountain-cat\\ch (35).jpg\n",
      "C:\\Users\\ishaa\\OneDrive\\Documents\\Deep Learning\\Felis_Taxonomy\\Felis_Taxonomy\\chinese-mountain-cat\\ch (36).jpg\n",
      "C:\\Users\\ishaa\\OneDrive\\Documents\\Deep Learning\\Felis_Taxonomy\\Felis_Taxonomy\\chinese-mountain-cat\\ch (37).jpg\n",
      "C:\\Users\\ishaa\\OneDrive\\Documents\\Deep Learning\\Felis_Taxonomy\\Felis_Taxonomy\\chinese-mountain-cat\\ch (38).jpg\n",
      "C:\\Users\\ishaa\\OneDrive\\Documents\\Deep Learning\\Felis_Taxonomy\\Felis_Taxonomy\\chinese-mountain-cat\\ch (39).jpg\n",
      "C:\\Users\\ishaa\\OneDrive\\Documents\\Deep Learning\\Felis_Taxonomy\\Felis_Taxonomy\\chinese-mountain-cat\\ch (4).jpg\n",
      "C:\\Users\\ishaa\\OneDrive\\Documents\\Deep Learning\\Felis_Taxonomy\\Felis_Taxonomy\\chinese-mountain-cat\\ch (40).jpg\n",
      "C:\\Users\\ishaa\\OneDrive\\Documents\\Deep Learning\\Felis_Taxonomy\\Felis_Taxonomy\\chinese-mountain-cat\\ch (41).jpg\n",
      "C:\\Users\\ishaa\\OneDrive\\Documents\\Deep Learning\\Felis_Taxonomy\\Felis_Taxonomy\\chinese-mountain-cat\\ch (42).jpg\n",
      "C:\\Users\\ishaa\\OneDrive\\Documents\\Deep Learning\\Felis_Taxonomy\\Felis_Taxonomy\\chinese-mountain-cat\\ch (5).jpg\n",
      "C:\\Users\\ishaa\\OneDrive\\Documents\\Deep Learning\\Felis_Taxonomy\\Felis_Taxonomy\\chinese-mountain-cat\\ch (6).jpg\n",
      "C:\\Users\\ishaa\\OneDrive\\Documents\\Deep Learning\\Felis_Taxonomy\\Felis_Taxonomy\\chinese-mountain-cat\\ch (7).jpg\n",
      "C:\\Users\\ishaa\\OneDrive\\Documents\\Deep Learning\\Felis_Taxonomy\\Felis_Taxonomy\\chinese-mountain-cat\\ch (8).jpg\n",
      "C:\\Users\\ishaa\\OneDrive\\Documents\\Deep Learning\\Felis_Taxonomy\\Felis_Taxonomy\\chinese-mountain-cat\\ch (9).jpg\n",
      "C:\\Users\\ishaa\\OneDrive\\Documents\\Deep Learning\\Felis_Taxonomy\\Felis_Taxonomy\\domestic-cat\\dc (1).jpg\n",
      "C:\\Users\\ishaa\\OneDrive\\Documents\\Deep Learning\\Felis_Taxonomy\\Felis_Taxonomy\\domestic-cat\\dc (10).jpg\n",
      "C:\\Users\\ishaa\\OneDrive\\Documents\\Deep Learning\\Felis_Taxonomy\\Felis_Taxonomy\\domestic-cat\\dc (11).jpg\n",
      "C:\\Users\\ishaa\\OneDrive\\Documents\\Deep Learning\\Felis_Taxonomy\\Felis_Taxonomy\\domestic-cat\\dc (12).jpg\n",
      "C:\\Users\\ishaa\\OneDrive\\Documents\\Deep Learning\\Felis_Taxonomy\\Felis_Taxonomy\\domestic-cat\\dc (13).jpg\n",
      "C:\\Users\\ishaa\\OneDrive\\Documents\\Deep Learning\\Felis_Taxonomy\\Felis_Taxonomy\\domestic-cat\\dc (14).jpg\n",
      "C:\\Users\\ishaa\\OneDrive\\Documents\\Deep Learning\\Felis_Taxonomy\\Felis_Taxonomy\\domestic-cat\\dc (15).jpg\n",
      "C:\\Users\\ishaa\\OneDrive\\Documents\\Deep Learning\\Felis_Taxonomy\\Felis_Taxonomy\\domestic-cat\\dc (16).jpg\n",
      "C:\\Users\\ishaa\\OneDrive\\Documents\\Deep Learning\\Felis_Taxonomy\\Felis_Taxonomy\\domestic-cat\\dc (17).jpg\n",
      "C:\\Users\\ishaa\\OneDrive\\Documents\\Deep Learning\\Felis_Taxonomy\\Felis_Taxonomy\\domestic-cat\\dc (18).jpg\n",
      "C:\\Users\\ishaa\\OneDrive\\Documents\\Deep Learning\\Felis_Taxonomy\\Felis_Taxonomy\\domestic-cat\\dc (19).jpg\n",
      "C:\\Users\\ishaa\\OneDrive\\Documents\\Deep Learning\\Felis_Taxonomy\\Felis_Taxonomy\\domestic-cat\\dc (2).jpg\n",
      "C:\\Users\\ishaa\\OneDrive\\Documents\\Deep Learning\\Felis_Taxonomy\\Felis_Taxonomy\\domestic-cat\\dc (20).jpg\n",
      "C:\\Users\\ishaa\\OneDrive\\Documents\\Deep Learning\\Felis_Taxonomy\\Felis_Taxonomy\\domestic-cat\\dc (21).jpg\n",
      "C:\\Users\\ishaa\\OneDrive\\Documents\\Deep Learning\\Felis_Taxonomy\\Felis_Taxonomy\\domestic-cat\\dc (22).jpg\n",
      "C:\\Users\\ishaa\\OneDrive\\Documents\\Deep Learning\\Felis_Taxonomy\\Felis_Taxonomy\\domestic-cat\\dc (23).jpg\n",
      "C:\\Users\\ishaa\\OneDrive\\Documents\\Deep Learning\\Felis_Taxonomy\\Felis_Taxonomy\\domestic-cat\\dc (24).jpg\n",
      "C:\\Users\\ishaa\\OneDrive\\Documents\\Deep Learning\\Felis_Taxonomy\\Felis_Taxonomy\\domestic-cat\\dc (25).jpg\n",
      "C:\\Users\\ishaa\\OneDrive\\Documents\\Deep Learning\\Felis_Taxonomy\\Felis_Taxonomy\\domestic-cat\\dc (26).jpg\n",
      "C:\\Users\\ishaa\\OneDrive\\Documents\\Deep Learning\\Felis_Taxonomy\\Felis_Taxonomy\\domestic-cat\\dc (27).jpg\n",
      "C:\\Users\\ishaa\\OneDrive\\Documents\\Deep Learning\\Felis_Taxonomy\\Felis_Taxonomy\\domestic-cat\\dc (28).jpg\n",
      "C:\\Users\\ishaa\\OneDrive\\Documents\\Deep Learning\\Felis_Taxonomy\\Felis_Taxonomy\\domestic-cat\\dc (29).jpg\n",
      "C:\\Users\\ishaa\\OneDrive\\Documents\\Deep Learning\\Felis_Taxonomy\\Felis_Taxonomy\\domestic-cat\\dc (3).jpg\n",
      "C:\\Users\\ishaa\\OneDrive\\Documents\\Deep Learning\\Felis_Taxonomy\\Felis_Taxonomy\\domestic-cat\\dc (30).jpg\n",
      "C:\\Users\\ishaa\\OneDrive\\Documents\\Deep Learning\\Felis_Taxonomy\\Felis_Taxonomy\\domestic-cat\\dc (31).jpg\n",
      "C:\\Users\\ishaa\\OneDrive\\Documents\\Deep Learning\\Felis_Taxonomy\\Felis_Taxonomy\\domestic-cat\\dc (32).jpg\n",
      "C:\\Users\\ishaa\\OneDrive\\Documents\\Deep Learning\\Felis_Taxonomy\\Felis_Taxonomy\\domestic-cat\\dc (33).jpg\n",
      "C:\\Users\\ishaa\\OneDrive\\Documents\\Deep Learning\\Felis_Taxonomy\\Felis_Taxonomy\\domestic-cat\\dc (34).jpg\n",
      "C:\\Users\\ishaa\\OneDrive\\Documents\\Deep Learning\\Felis_Taxonomy\\Felis_Taxonomy\\domestic-cat\\dc (35).jpg\n",
      "C:\\Users\\ishaa\\OneDrive\\Documents\\Deep Learning\\Felis_Taxonomy\\Felis_Taxonomy\\domestic-cat\\dc (36).jpg\n",
      "C:\\Users\\ishaa\\OneDrive\\Documents\\Deep Learning\\Felis_Taxonomy\\Felis_Taxonomy\\domestic-cat\\dc (37).jpg\n",
      "C:\\Users\\ishaa\\OneDrive\\Documents\\Deep Learning\\Felis_Taxonomy\\Felis_Taxonomy\\domestic-cat\\dc (38).jpg\n",
      "C:\\Users\\ishaa\\OneDrive\\Documents\\Deep Learning\\Felis_Taxonomy\\Felis_Taxonomy\\domestic-cat\\dc (39).jpg\n",
      "C:\\Users\\ishaa\\OneDrive\\Documents\\Deep Learning\\Felis_Taxonomy\\Felis_Taxonomy\\domestic-cat\\dc (4).jpg\n",
      "C:\\Users\\ishaa\\OneDrive\\Documents\\Deep Learning\\Felis_Taxonomy\\Felis_Taxonomy\\domestic-cat\\dc (40).jpg\n",
      "C:\\Users\\ishaa\\OneDrive\\Documents\\Deep Learning\\Felis_Taxonomy\\Felis_Taxonomy\\domestic-cat\\dc (41).jpg\n",
      "C:\\Users\\ishaa\\OneDrive\\Documents\\Deep Learning\\Felis_Taxonomy\\Felis_Taxonomy\\domestic-cat\\dc (42).jpg\n",
      "C:\\Users\\ishaa\\OneDrive\\Documents\\Deep Learning\\Felis_Taxonomy\\Felis_Taxonomy\\domestic-cat\\dc (43).jpg\n",
      "C:\\Users\\ishaa\\OneDrive\\Documents\\Deep Learning\\Felis_Taxonomy\\Felis_Taxonomy\\domestic-cat\\dc (44).jpg\n",
      "C:\\Users\\ishaa\\OneDrive\\Documents\\Deep Learning\\Felis_Taxonomy\\Felis_Taxonomy\\domestic-cat\\dc (45).jpg\n",
      "C:\\Users\\ishaa\\OneDrive\\Documents\\Deep Learning\\Felis_Taxonomy\\Felis_Taxonomy\\domestic-cat\\dc (46).jpg\n",
      "C:\\Users\\ishaa\\OneDrive\\Documents\\Deep Learning\\Felis_Taxonomy\\Felis_Taxonomy\\domestic-cat\\dc (47).jpg\n",
      "C:\\Users\\ishaa\\OneDrive\\Documents\\Deep Learning\\Felis_Taxonomy\\Felis_Taxonomy\\domestic-cat\\dc (48).jpg\n",
      "C:\\Users\\ishaa\\OneDrive\\Documents\\Deep Learning\\Felis_Taxonomy\\Felis_Taxonomy\\domestic-cat\\dc (49).jpg\n",
      "C:\\Users\\ishaa\\OneDrive\\Documents\\Deep Learning\\Felis_Taxonomy\\Felis_Taxonomy\\domestic-cat\\dc (5).jpg\n",
      "C:\\Users\\ishaa\\OneDrive\\Documents\\Deep Learning\\Felis_Taxonomy\\Felis_Taxonomy\\domestic-cat\\dc (50).jpg\n",
      "C:\\Users\\ishaa\\OneDrive\\Documents\\Deep Learning\\Felis_Taxonomy\\Felis_Taxonomy\\domestic-cat\\dc (51).jpg\n",
      "C:\\Users\\ishaa\\OneDrive\\Documents\\Deep Learning\\Felis_Taxonomy\\Felis_Taxonomy\\domestic-cat\\dc (52).jpg\n",
      "C:\\Users\\ishaa\\OneDrive\\Documents\\Deep Learning\\Felis_Taxonomy\\Felis_Taxonomy\\domestic-cat\\dc (53).jpg\n",
      "C:\\Users\\ishaa\\OneDrive\\Documents\\Deep Learning\\Felis_Taxonomy\\Felis_Taxonomy\\domestic-cat\\dc (54).jpg\n",
      "C:\\Users\\ishaa\\OneDrive\\Documents\\Deep Learning\\Felis_Taxonomy\\Felis_Taxonomy\\domestic-cat\\dc (55).jpg\n",
      "C:\\Users\\ishaa\\OneDrive\\Documents\\Deep Learning\\Felis_Taxonomy\\Felis_Taxonomy\\domestic-cat\\dc (56).jpg\n",
      "C:\\Users\\ishaa\\OneDrive\\Documents\\Deep Learning\\Felis_Taxonomy\\Felis_Taxonomy\\domestic-cat\\dc (57).jpg\n",
      "C:\\Users\\ishaa\\OneDrive\\Documents\\Deep Learning\\Felis_Taxonomy\\Felis_Taxonomy\\domestic-cat\\dc (58).jpg\n",
      "C:\\Users\\ishaa\\OneDrive\\Documents\\Deep Learning\\Felis_Taxonomy\\Felis_Taxonomy\\domestic-cat\\dc (59).jpg\n",
      "C:\\Users\\ishaa\\OneDrive\\Documents\\Deep Learning\\Felis_Taxonomy\\Felis_Taxonomy\\domestic-cat\\dc (6).jpg\n",
      "C:\\Users\\ishaa\\OneDrive\\Documents\\Deep Learning\\Felis_Taxonomy\\Felis_Taxonomy\\domestic-cat\\dc (60).jpg\n",
      "C:\\Users\\ishaa\\OneDrive\\Documents\\Deep Learning\\Felis_Taxonomy\\Felis_Taxonomy\\domestic-cat\\dc (61).jpg\n",
      "C:\\Users\\ishaa\\OneDrive\\Documents\\Deep Learning\\Felis_Taxonomy\\Felis_Taxonomy\\domestic-cat\\dc (62).jpg\n",
      "C:\\Users\\ishaa\\OneDrive\\Documents\\Deep Learning\\Felis_Taxonomy\\Felis_Taxonomy\\domestic-cat\\dc (63).jpg\n",
      "C:\\Users\\ishaa\\OneDrive\\Documents\\Deep Learning\\Felis_Taxonomy\\Felis_Taxonomy\\domestic-cat\\dc (64).jpg\n",
      "C:\\Users\\ishaa\\OneDrive\\Documents\\Deep Learning\\Felis_Taxonomy\\Felis_Taxonomy\\domestic-cat\\dc (7).jpg\n",
      "C:\\Users\\ishaa\\OneDrive\\Documents\\Deep Learning\\Felis_Taxonomy\\Felis_Taxonomy\\domestic-cat\\dc (8).jpg\n",
      "C:\\Users\\ishaa\\OneDrive\\Documents\\Deep Learning\\Felis_Taxonomy\\Felis_Taxonomy\\domestic-cat\\dc (9).jpg\n",
      "C:\\Users\\ishaa\\OneDrive\\Documents\\Deep Learning\\Felis_Taxonomy\\Felis_Taxonomy\\european-wildcat\\eu (1).jpg\n",
      "C:\\Users\\ishaa\\OneDrive\\Documents\\Deep Learning\\Felis_Taxonomy\\Felis_Taxonomy\\european-wildcat\\eu (10).jpg\n",
      "C:\\Users\\ishaa\\OneDrive\\Documents\\Deep Learning\\Felis_Taxonomy\\Felis_Taxonomy\\european-wildcat\\eu (11).jpg\n",
      "C:\\Users\\ishaa\\OneDrive\\Documents\\Deep Learning\\Felis_Taxonomy\\Felis_Taxonomy\\european-wildcat\\eu (12).jpg\n",
      "C:\\Users\\ishaa\\OneDrive\\Documents\\Deep Learning\\Felis_Taxonomy\\Felis_Taxonomy\\european-wildcat\\eu (13).jpg\n",
      "C:\\Users\\ishaa\\OneDrive\\Documents\\Deep Learning\\Felis_Taxonomy\\Felis_Taxonomy\\european-wildcat\\eu (14).jpg\n",
      "C:\\Users\\ishaa\\OneDrive\\Documents\\Deep Learning\\Felis_Taxonomy\\Felis_Taxonomy\\european-wildcat\\eu (15).jpg\n",
      "C:\\Users\\ishaa\\OneDrive\\Documents\\Deep Learning\\Felis_Taxonomy\\Felis_Taxonomy\\european-wildcat\\eu (16).jpg\n",
      "C:\\Users\\ishaa\\OneDrive\\Documents\\Deep Learning\\Felis_Taxonomy\\Felis_Taxonomy\\european-wildcat\\eu (17).jpg\n",
      "C:\\Users\\ishaa\\OneDrive\\Documents\\Deep Learning\\Felis_Taxonomy\\Felis_Taxonomy\\european-wildcat\\eu (18).jpg\n",
      "C:\\Users\\ishaa\\OneDrive\\Documents\\Deep Learning\\Felis_Taxonomy\\Felis_Taxonomy\\european-wildcat\\eu (19).jpg\n",
      "C:\\Users\\ishaa\\OneDrive\\Documents\\Deep Learning\\Felis_Taxonomy\\Felis_Taxonomy\\european-wildcat\\eu (2).jpg\n",
      "C:\\Users\\ishaa\\OneDrive\\Documents\\Deep Learning\\Felis_Taxonomy\\Felis_Taxonomy\\european-wildcat\\eu (20).jpg\n",
      "C:\\Users\\ishaa\\OneDrive\\Documents\\Deep Learning\\Felis_Taxonomy\\Felis_Taxonomy\\european-wildcat\\eu (21).jpg\n",
      "C:\\Users\\ishaa\\OneDrive\\Documents\\Deep Learning\\Felis_Taxonomy\\Felis_Taxonomy\\european-wildcat\\eu (22).jpg\n",
      "C:\\Users\\ishaa\\OneDrive\\Documents\\Deep Learning\\Felis_Taxonomy\\Felis_Taxonomy\\european-wildcat\\eu (23).jpg\n",
      "C:\\Users\\ishaa\\OneDrive\\Documents\\Deep Learning\\Felis_Taxonomy\\Felis_Taxonomy\\european-wildcat\\eu (24).jpg\n",
      "C:\\Users\\ishaa\\OneDrive\\Documents\\Deep Learning\\Felis_Taxonomy\\Felis_Taxonomy\\european-wildcat\\eu (25).jpg\n",
      "C:\\Users\\ishaa\\OneDrive\\Documents\\Deep Learning\\Felis_Taxonomy\\Felis_Taxonomy\\european-wildcat\\eu (26).jpg\n",
      "C:\\Users\\ishaa\\OneDrive\\Documents\\Deep Learning\\Felis_Taxonomy\\Felis_Taxonomy\\european-wildcat\\eu (27).jpg\n",
      "C:\\Users\\ishaa\\OneDrive\\Documents\\Deep Learning\\Felis_Taxonomy\\Felis_Taxonomy\\european-wildcat\\eu (28).jpg\n",
      "C:\\Users\\ishaa\\OneDrive\\Documents\\Deep Learning\\Felis_Taxonomy\\Felis_Taxonomy\\european-wildcat\\eu (29).jpg\n",
      "C:\\Users\\ishaa\\OneDrive\\Documents\\Deep Learning\\Felis_Taxonomy\\Felis_Taxonomy\\european-wildcat\\eu (3).jpg\n",
      "C:\\Users\\ishaa\\OneDrive\\Documents\\Deep Learning\\Felis_Taxonomy\\Felis_Taxonomy\\european-wildcat\\eu (30).jpg\n",
      "C:\\Users\\ishaa\\OneDrive\\Documents\\Deep Learning\\Felis_Taxonomy\\Felis_Taxonomy\\european-wildcat\\eu (31).jpg\n",
      "C:\\Users\\ishaa\\OneDrive\\Documents\\Deep Learning\\Felis_Taxonomy\\Felis_Taxonomy\\european-wildcat\\eu (32).jpg\n",
      "C:\\Users\\ishaa\\OneDrive\\Documents\\Deep Learning\\Felis_Taxonomy\\Felis_Taxonomy\\european-wildcat\\eu (33).jpg\n",
      "C:\\Users\\ishaa\\OneDrive\\Documents\\Deep Learning\\Felis_Taxonomy\\Felis_Taxonomy\\european-wildcat\\eu (34).jpg\n",
      "C:\\Users\\ishaa\\OneDrive\\Documents\\Deep Learning\\Felis_Taxonomy\\Felis_Taxonomy\\european-wildcat\\eu (35).jpg\n",
      "C:\\Users\\ishaa\\OneDrive\\Documents\\Deep Learning\\Felis_Taxonomy\\Felis_Taxonomy\\european-wildcat\\eu (36).jpg\n",
      "C:\\Users\\ishaa\\OneDrive\\Documents\\Deep Learning\\Felis_Taxonomy\\Felis_Taxonomy\\european-wildcat\\eu (37).jpg\n",
      "C:\\Users\\ishaa\\OneDrive\\Documents\\Deep Learning\\Felis_Taxonomy\\Felis_Taxonomy\\european-wildcat\\eu (38).jpg\n",
      "C:\\Users\\ishaa\\OneDrive\\Documents\\Deep Learning\\Felis_Taxonomy\\Felis_Taxonomy\\european-wildcat\\eu (39).jpg\n",
      "C:\\Users\\ishaa\\OneDrive\\Documents\\Deep Learning\\Felis_Taxonomy\\Felis_Taxonomy\\european-wildcat\\eu (4).jpg\n",
      "C:\\Users\\ishaa\\OneDrive\\Documents\\Deep Learning\\Felis_Taxonomy\\Felis_Taxonomy\\european-wildcat\\eu (40).jpg\n",
      "C:\\Users\\ishaa\\OneDrive\\Documents\\Deep Learning\\Felis_Taxonomy\\Felis_Taxonomy\\european-wildcat\\eu (41).jpg\n",
      "C:\\Users\\ishaa\\OneDrive\\Documents\\Deep Learning\\Felis_Taxonomy\\Felis_Taxonomy\\european-wildcat\\eu (42).jpg\n",
      "C:\\Users\\ishaa\\OneDrive\\Documents\\Deep Learning\\Felis_Taxonomy\\Felis_Taxonomy\\european-wildcat\\eu (43).jpg\n",
      "C:\\Users\\ishaa\\OneDrive\\Documents\\Deep Learning\\Felis_Taxonomy\\Felis_Taxonomy\\european-wildcat\\eu (44).jpg\n",
      "C:\\Users\\ishaa\\OneDrive\\Documents\\Deep Learning\\Felis_Taxonomy\\Felis_Taxonomy\\european-wildcat\\eu (45).jpg\n",
      "C:\\Users\\ishaa\\OneDrive\\Documents\\Deep Learning\\Felis_Taxonomy\\Felis_Taxonomy\\european-wildcat\\eu (46).jpg\n",
      "C:\\Users\\ishaa\\OneDrive\\Documents\\Deep Learning\\Felis_Taxonomy\\Felis_Taxonomy\\european-wildcat\\eu (47).jpg\n",
      "C:\\Users\\ishaa\\OneDrive\\Documents\\Deep Learning\\Felis_Taxonomy\\Felis_Taxonomy\\european-wildcat\\eu (48).jpg\n",
      "C:\\Users\\ishaa\\OneDrive\\Documents\\Deep Learning\\Felis_Taxonomy\\Felis_Taxonomy\\european-wildcat\\eu (49).jpg\n",
      "C:\\Users\\ishaa\\OneDrive\\Documents\\Deep Learning\\Felis_Taxonomy\\Felis_Taxonomy\\european-wildcat\\eu (5).jpg\n",
      "C:\\Users\\ishaa\\OneDrive\\Documents\\Deep Learning\\Felis_Taxonomy\\Felis_Taxonomy\\european-wildcat\\eu (50).jpg\n",
      "C:\\Users\\ishaa\\OneDrive\\Documents\\Deep Learning\\Felis_Taxonomy\\Felis_Taxonomy\\european-wildcat\\eu (51).jpg\n",
      "C:\\Users\\ishaa\\OneDrive\\Documents\\Deep Learning\\Felis_Taxonomy\\Felis_Taxonomy\\european-wildcat\\eu (52).jpg\n",
      "C:\\Users\\ishaa\\OneDrive\\Documents\\Deep Learning\\Felis_Taxonomy\\Felis_Taxonomy\\european-wildcat\\eu (53).jpg\n",
      "C:\\Users\\ishaa\\OneDrive\\Documents\\Deep Learning\\Felis_Taxonomy\\Felis_Taxonomy\\european-wildcat\\eu (54).jpg\n",
      "C:\\Users\\ishaa\\OneDrive\\Documents\\Deep Learning\\Felis_Taxonomy\\Felis_Taxonomy\\european-wildcat\\eu (55).jpg\n",
      "C:\\Users\\ishaa\\OneDrive\\Documents\\Deep Learning\\Felis_Taxonomy\\Felis_Taxonomy\\european-wildcat\\eu (56).jpg\n",
      "C:\\Users\\ishaa\\OneDrive\\Documents\\Deep Learning\\Felis_Taxonomy\\Felis_Taxonomy\\european-wildcat\\eu (57).jpg\n",
      "C:\\Users\\ishaa\\OneDrive\\Documents\\Deep Learning\\Felis_Taxonomy\\Felis_Taxonomy\\european-wildcat\\eu (58).jpg\n",
      "C:\\Users\\ishaa\\OneDrive\\Documents\\Deep Learning\\Felis_Taxonomy\\Felis_Taxonomy\\european-wildcat\\eu (59).jpg\n",
      "C:\\Users\\ishaa\\OneDrive\\Documents\\Deep Learning\\Felis_Taxonomy\\Felis_Taxonomy\\european-wildcat\\eu (6).jpg\n",
      "C:\\Users\\ishaa\\OneDrive\\Documents\\Deep Learning\\Felis_Taxonomy\\Felis_Taxonomy\\european-wildcat\\eu (60).jpg\n",
      "C:\\Users\\ishaa\\OneDrive\\Documents\\Deep Learning\\Felis_Taxonomy\\Felis_Taxonomy\\european-wildcat\\eu (61).jpg\n",
      "C:\\Users\\ishaa\\OneDrive\\Documents\\Deep Learning\\Felis_Taxonomy\\Felis_Taxonomy\\european-wildcat\\eu (62).jpg\n",
      "C:\\Users\\ishaa\\OneDrive\\Documents\\Deep Learning\\Felis_Taxonomy\\Felis_Taxonomy\\european-wildcat\\eu (63).jpg\n",
      "C:\\Users\\ishaa\\OneDrive\\Documents\\Deep Learning\\Felis_Taxonomy\\Felis_Taxonomy\\european-wildcat\\eu (64).jpg\n",
      "C:\\Users\\ishaa\\OneDrive\\Documents\\Deep Learning\\Felis_Taxonomy\\Felis_Taxonomy\\european-wildcat\\eu (65).jpg\n",
      "C:\\Users\\ishaa\\OneDrive\\Documents\\Deep Learning\\Felis_Taxonomy\\Felis_Taxonomy\\european-wildcat\\eu (66).jpg\n",
      "C:\\Users\\ishaa\\OneDrive\\Documents\\Deep Learning\\Felis_Taxonomy\\Felis_Taxonomy\\european-wildcat\\eu (67).jpg\n",
      "C:\\Users\\ishaa\\OneDrive\\Documents\\Deep Learning\\Felis_Taxonomy\\Felis_Taxonomy\\european-wildcat\\eu (68).jpg\n",
      "C:\\Users\\ishaa\\OneDrive\\Documents\\Deep Learning\\Felis_Taxonomy\\Felis_Taxonomy\\european-wildcat\\eu (69).jpg\n",
      "C:\\Users\\ishaa\\OneDrive\\Documents\\Deep Learning\\Felis_Taxonomy\\Felis_Taxonomy\\european-wildcat\\eu (7).jpg\n",
      "C:\\Users\\ishaa\\OneDrive\\Documents\\Deep Learning\\Felis_Taxonomy\\Felis_Taxonomy\\european-wildcat\\eu (70).jpg\n",
      "C:\\Users\\ishaa\\OneDrive\\Documents\\Deep Learning\\Felis_Taxonomy\\Felis_Taxonomy\\european-wildcat\\eu (71).jpg\n",
      "C:\\Users\\ishaa\\OneDrive\\Documents\\Deep Learning\\Felis_Taxonomy\\Felis_Taxonomy\\european-wildcat\\eu (72).jpg\n",
      "C:\\Users\\ishaa\\OneDrive\\Documents\\Deep Learning\\Felis_Taxonomy\\Felis_Taxonomy\\european-wildcat\\eu (73).jpg\n",
      "C:\\Users\\ishaa\\OneDrive\\Documents\\Deep Learning\\Felis_Taxonomy\\Felis_Taxonomy\\european-wildcat\\eu (74).jpg\n",
      "C:\\Users\\ishaa\\OneDrive\\Documents\\Deep Learning\\Felis_Taxonomy\\Felis_Taxonomy\\european-wildcat\\eu (75).jpg\n",
      "C:\\Users\\ishaa\\OneDrive\\Documents\\Deep Learning\\Felis_Taxonomy\\Felis_Taxonomy\\european-wildcat\\eu (76).jpg\n",
      "C:\\Users\\ishaa\\OneDrive\\Documents\\Deep Learning\\Felis_Taxonomy\\Felis_Taxonomy\\european-wildcat\\eu (77).jpg\n",
      "C:\\Users\\ishaa\\OneDrive\\Documents\\Deep Learning\\Felis_Taxonomy\\Felis_Taxonomy\\european-wildcat\\eu (78).jpg\n",
      "C:\\Users\\ishaa\\OneDrive\\Documents\\Deep Learning\\Felis_Taxonomy\\Felis_Taxonomy\\european-wildcat\\eu (79).jpg\n",
      "C:\\Users\\ishaa\\OneDrive\\Documents\\Deep Learning\\Felis_Taxonomy\\Felis_Taxonomy\\european-wildcat\\eu (8).jpg\n",
      "C:\\Users\\ishaa\\OneDrive\\Documents\\Deep Learning\\Felis_Taxonomy\\Felis_Taxonomy\\european-wildcat\\eu (80).jpg\n",
      "C:\\Users\\ishaa\\OneDrive\\Documents\\Deep Learning\\Felis_Taxonomy\\Felis_Taxonomy\\european-wildcat\\eu (81).jpg\n",
      "C:\\Users\\ishaa\\OneDrive\\Documents\\Deep Learning\\Felis_Taxonomy\\Felis_Taxonomy\\european-wildcat\\eu (82).jpg\n",
      "C:\\Users\\ishaa\\OneDrive\\Documents\\Deep Learning\\Felis_Taxonomy\\Felis_Taxonomy\\european-wildcat\\eu (83).jpg\n",
      "C:\\Users\\ishaa\\OneDrive\\Documents\\Deep Learning\\Felis_Taxonomy\\Felis_Taxonomy\\european-wildcat\\eu (84).jpg\n",
      "C:\\Users\\ishaa\\OneDrive\\Documents\\Deep Learning\\Felis_Taxonomy\\Felis_Taxonomy\\european-wildcat\\eu (85).jpg\n",
      "C:\\Users\\ishaa\\OneDrive\\Documents\\Deep Learning\\Felis_Taxonomy\\Felis_Taxonomy\\european-wildcat\\eu (9).jpg\n",
      "C:\\Users\\ishaa\\OneDrive\\Documents\\Deep Learning\\Felis_Taxonomy\\Felis_Taxonomy\\jungle-cat\\jg (1).jpg\n",
      "C:\\Users\\ishaa\\OneDrive\\Documents\\Deep Learning\\Felis_Taxonomy\\Felis_Taxonomy\\jungle-cat\\jg (10).jpg\n",
      "C:\\Users\\ishaa\\OneDrive\\Documents\\Deep Learning\\Felis_Taxonomy\\Felis_Taxonomy\\jungle-cat\\jg (11).jpg\n",
      "C:\\Users\\ishaa\\OneDrive\\Documents\\Deep Learning\\Felis_Taxonomy\\Felis_Taxonomy\\jungle-cat\\jg (12).jpg\n",
      "C:\\Users\\ishaa\\OneDrive\\Documents\\Deep Learning\\Felis_Taxonomy\\Felis_Taxonomy\\jungle-cat\\jg (13).jpg\n",
      "C:\\Users\\ishaa\\OneDrive\\Documents\\Deep Learning\\Felis_Taxonomy\\Felis_Taxonomy\\jungle-cat\\jg (14).jpg\n",
      "C:\\Users\\ishaa\\OneDrive\\Documents\\Deep Learning\\Felis_Taxonomy\\Felis_Taxonomy\\jungle-cat\\jg (15).jpg\n",
      "C:\\Users\\ishaa\\OneDrive\\Documents\\Deep Learning\\Felis_Taxonomy\\Felis_Taxonomy\\jungle-cat\\jg (16).jpg\n",
      "C:\\Users\\ishaa\\OneDrive\\Documents\\Deep Learning\\Felis_Taxonomy\\Felis_Taxonomy\\jungle-cat\\jg (17).jpg\n",
      "C:\\Users\\ishaa\\OneDrive\\Documents\\Deep Learning\\Felis_Taxonomy\\Felis_Taxonomy\\jungle-cat\\jg (18).jpg\n",
      "C:\\Users\\ishaa\\OneDrive\\Documents\\Deep Learning\\Felis_Taxonomy\\Felis_Taxonomy\\jungle-cat\\jg (19).jpg\n",
      "C:\\Users\\ishaa\\OneDrive\\Documents\\Deep Learning\\Felis_Taxonomy\\Felis_Taxonomy\\jungle-cat\\jg (2).jpg\n",
      "C:\\Users\\ishaa\\OneDrive\\Documents\\Deep Learning\\Felis_Taxonomy\\Felis_Taxonomy\\jungle-cat\\jg (20).jpg\n",
      "C:\\Users\\ishaa\\OneDrive\\Documents\\Deep Learning\\Felis_Taxonomy\\Felis_Taxonomy\\jungle-cat\\jg (21).jpg\n",
      "C:\\Users\\ishaa\\OneDrive\\Documents\\Deep Learning\\Felis_Taxonomy\\Felis_Taxonomy\\jungle-cat\\jg (22).jpg\n",
      "C:\\Users\\ishaa\\OneDrive\\Documents\\Deep Learning\\Felis_Taxonomy\\Felis_Taxonomy\\jungle-cat\\jg (23).jpg\n",
      "C:\\Users\\ishaa\\OneDrive\\Documents\\Deep Learning\\Felis_Taxonomy\\Felis_Taxonomy\\jungle-cat\\jg (24).jpg\n",
      "C:\\Users\\ishaa\\OneDrive\\Documents\\Deep Learning\\Felis_Taxonomy\\Felis_Taxonomy\\jungle-cat\\jg (25).jpg\n",
      "C:\\Users\\ishaa\\OneDrive\\Documents\\Deep Learning\\Felis_Taxonomy\\Felis_Taxonomy\\jungle-cat\\jg (26).jpg\n",
      "C:\\Users\\ishaa\\OneDrive\\Documents\\Deep Learning\\Felis_Taxonomy\\Felis_Taxonomy\\jungle-cat\\jg (27).jpg\n",
      "C:\\Users\\ishaa\\OneDrive\\Documents\\Deep Learning\\Felis_Taxonomy\\Felis_Taxonomy\\jungle-cat\\jg (28).jpg\n",
      "C:\\Users\\ishaa\\OneDrive\\Documents\\Deep Learning\\Felis_Taxonomy\\Felis_Taxonomy\\jungle-cat\\jg (29).jpg\n",
      "C:\\Users\\ishaa\\OneDrive\\Documents\\Deep Learning\\Felis_Taxonomy\\Felis_Taxonomy\\jungle-cat\\jg (3).jpg\n",
      "C:\\Users\\ishaa\\OneDrive\\Documents\\Deep Learning\\Felis_Taxonomy\\Felis_Taxonomy\\jungle-cat\\jg (30).jpg\n",
      "C:\\Users\\ishaa\\OneDrive\\Documents\\Deep Learning\\Felis_Taxonomy\\Felis_Taxonomy\\jungle-cat\\jg (31).jpg\n",
      "C:\\Users\\ishaa\\OneDrive\\Documents\\Deep Learning\\Felis_Taxonomy\\Felis_Taxonomy\\jungle-cat\\jg (32).jpg\n",
      "C:\\Users\\ishaa\\OneDrive\\Documents\\Deep Learning\\Felis_Taxonomy\\Felis_Taxonomy\\jungle-cat\\jg (33).jpg\n",
      "C:\\Users\\ishaa\\OneDrive\\Documents\\Deep Learning\\Felis_Taxonomy\\Felis_Taxonomy\\jungle-cat\\jg (34).jpg\n",
      "C:\\Users\\ishaa\\OneDrive\\Documents\\Deep Learning\\Felis_Taxonomy\\Felis_Taxonomy\\jungle-cat\\jg (35).jpg\n",
      "C:\\Users\\ishaa\\OneDrive\\Documents\\Deep Learning\\Felis_Taxonomy\\Felis_Taxonomy\\jungle-cat\\jg (36).jpg\n",
      "C:\\Users\\ishaa\\OneDrive\\Documents\\Deep Learning\\Felis_Taxonomy\\Felis_Taxonomy\\jungle-cat\\jg (37).jpg\n",
      "C:\\Users\\ishaa\\OneDrive\\Documents\\Deep Learning\\Felis_Taxonomy\\Felis_Taxonomy\\jungle-cat\\jg (38).jpg\n",
      "C:\\Users\\ishaa\\OneDrive\\Documents\\Deep Learning\\Felis_Taxonomy\\Felis_Taxonomy\\jungle-cat\\jg (39).jpg\n",
      "C:\\Users\\ishaa\\OneDrive\\Documents\\Deep Learning\\Felis_Taxonomy\\Felis_Taxonomy\\jungle-cat\\jg (4).jpg\n",
      "C:\\Users\\ishaa\\OneDrive\\Documents\\Deep Learning\\Felis_Taxonomy\\Felis_Taxonomy\\jungle-cat\\jg (40).jpg\n",
      "C:\\Users\\ishaa\\OneDrive\\Documents\\Deep Learning\\Felis_Taxonomy\\Felis_Taxonomy\\jungle-cat\\jg (41).jpg\n",
      "C:\\Users\\ishaa\\OneDrive\\Documents\\Deep Learning\\Felis_Taxonomy\\Felis_Taxonomy\\jungle-cat\\jg (42).jpg\n",
      "C:\\Users\\ishaa\\OneDrive\\Documents\\Deep Learning\\Felis_Taxonomy\\Felis_Taxonomy\\jungle-cat\\jg (43).jpg\n",
      "C:\\Users\\ishaa\\OneDrive\\Documents\\Deep Learning\\Felis_Taxonomy\\Felis_Taxonomy\\jungle-cat\\jg (44).jpg\n",
      "C:\\Users\\ishaa\\OneDrive\\Documents\\Deep Learning\\Felis_Taxonomy\\Felis_Taxonomy\\jungle-cat\\jg (45).jpg\n",
      "C:\\Users\\ishaa\\OneDrive\\Documents\\Deep Learning\\Felis_Taxonomy\\Felis_Taxonomy\\jungle-cat\\jg (46).jpg\n",
      "C:\\Users\\ishaa\\OneDrive\\Documents\\Deep Learning\\Felis_Taxonomy\\Felis_Taxonomy\\jungle-cat\\jg (47).jpg\n",
      "C:\\Users\\ishaa\\OneDrive\\Documents\\Deep Learning\\Felis_Taxonomy\\Felis_Taxonomy\\jungle-cat\\jg (48).jpg\n",
      "C:\\Users\\ishaa\\OneDrive\\Documents\\Deep Learning\\Felis_Taxonomy\\Felis_Taxonomy\\jungle-cat\\jg (49).jpg\n",
      "C:\\Users\\ishaa\\OneDrive\\Documents\\Deep Learning\\Felis_Taxonomy\\Felis_Taxonomy\\jungle-cat\\jg (5).jpg\n",
      "C:\\Users\\ishaa\\OneDrive\\Documents\\Deep Learning\\Felis_Taxonomy\\Felis_Taxonomy\\jungle-cat\\jg (50).jpg\n",
      "C:\\Users\\ishaa\\OneDrive\\Documents\\Deep Learning\\Felis_Taxonomy\\Felis_Taxonomy\\jungle-cat\\jg (51).jpg\n",
      "C:\\Users\\ishaa\\OneDrive\\Documents\\Deep Learning\\Felis_Taxonomy\\Felis_Taxonomy\\jungle-cat\\jg (52).jpg\n",
      "C:\\Users\\ishaa\\OneDrive\\Documents\\Deep Learning\\Felis_Taxonomy\\Felis_Taxonomy\\jungle-cat\\jg (53).jpg\n",
      "C:\\Users\\ishaa\\OneDrive\\Documents\\Deep Learning\\Felis_Taxonomy\\Felis_Taxonomy\\jungle-cat\\jg (54).jpg\n",
      "C:\\Users\\ishaa\\OneDrive\\Documents\\Deep Learning\\Felis_Taxonomy\\Felis_Taxonomy\\jungle-cat\\jg (55).jpg\n",
      "C:\\Users\\ishaa\\OneDrive\\Documents\\Deep Learning\\Felis_Taxonomy\\Felis_Taxonomy\\jungle-cat\\jg (56).jpg\n",
      "C:\\Users\\ishaa\\OneDrive\\Documents\\Deep Learning\\Felis_Taxonomy\\Felis_Taxonomy\\jungle-cat\\jg (57).jpg\n",
      "C:\\Users\\ishaa\\OneDrive\\Documents\\Deep Learning\\Felis_Taxonomy\\Felis_Taxonomy\\jungle-cat\\jg (58).jpg\n",
      "C:\\Users\\ishaa\\OneDrive\\Documents\\Deep Learning\\Felis_Taxonomy\\Felis_Taxonomy\\jungle-cat\\jg (59).jpg\n",
      "C:\\Users\\ishaa\\OneDrive\\Documents\\Deep Learning\\Felis_Taxonomy\\Felis_Taxonomy\\jungle-cat\\jg (6).jpg\n",
      "C:\\Users\\ishaa\\OneDrive\\Documents\\Deep Learning\\Felis_Taxonomy\\Felis_Taxonomy\\jungle-cat\\jg (60).jpg\n",
      "C:\\Users\\ishaa\\OneDrive\\Documents\\Deep Learning\\Felis_Taxonomy\\Felis_Taxonomy\\jungle-cat\\jg (61).jpg\n",
      "C:\\Users\\ishaa\\OneDrive\\Documents\\Deep Learning\\Felis_Taxonomy\\Felis_Taxonomy\\jungle-cat\\jg (62).jpg\n",
      "C:\\Users\\ishaa\\OneDrive\\Documents\\Deep Learning\\Felis_Taxonomy\\Felis_Taxonomy\\jungle-cat\\jg (63).jpg\n",
      "C:\\Users\\ishaa\\OneDrive\\Documents\\Deep Learning\\Felis_Taxonomy\\Felis_Taxonomy\\jungle-cat\\jg (64).jpg\n",
      "C:\\Users\\ishaa\\OneDrive\\Documents\\Deep Learning\\Felis_Taxonomy\\Felis_Taxonomy\\jungle-cat\\jg (65).jpg\n",
      "C:\\Users\\ishaa\\OneDrive\\Documents\\Deep Learning\\Felis_Taxonomy\\Felis_Taxonomy\\jungle-cat\\jg (66).jpg\n",
      "C:\\Users\\ishaa\\OneDrive\\Documents\\Deep Learning\\Felis_Taxonomy\\Felis_Taxonomy\\jungle-cat\\jg (67).jpg\n",
      "C:\\Users\\ishaa\\OneDrive\\Documents\\Deep Learning\\Felis_Taxonomy\\Felis_Taxonomy\\jungle-cat\\jg (68).jpg\n",
      "C:\\Users\\ishaa\\OneDrive\\Documents\\Deep Learning\\Felis_Taxonomy\\Felis_Taxonomy\\jungle-cat\\jg (69).jpg\n",
      "C:\\Users\\ishaa\\OneDrive\\Documents\\Deep Learning\\Felis_Taxonomy\\Felis_Taxonomy\\jungle-cat\\jg (7).jpg\n",
      "C:\\Users\\ishaa\\OneDrive\\Documents\\Deep Learning\\Felis_Taxonomy\\Felis_Taxonomy\\jungle-cat\\jg (70).jpg\n",
      "C:\\Users\\ishaa\\OneDrive\\Documents\\Deep Learning\\Felis_Taxonomy\\Felis_Taxonomy\\jungle-cat\\jg (71).jpg\n",
      "C:\\Users\\ishaa\\OneDrive\\Documents\\Deep Learning\\Felis_Taxonomy\\Felis_Taxonomy\\jungle-cat\\jg (72).jpg\n",
      "C:\\Users\\ishaa\\OneDrive\\Documents\\Deep Learning\\Felis_Taxonomy\\Felis_Taxonomy\\jungle-cat\\jg (73).jpg\n",
      "C:\\Users\\ishaa\\OneDrive\\Documents\\Deep Learning\\Felis_Taxonomy\\Felis_Taxonomy\\jungle-cat\\jg (74).jpg\n",
      "C:\\Users\\ishaa\\OneDrive\\Documents\\Deep Learning\\Felis_Taxonomy\\Felis_Taxonomy\\jungle-cat\\jg (75).jpg\n",
      "C:\\Users\\ishaa\\OneDrive\\Documents\\Deep Learning\\Felis_Taxonomy\\Felis_Taxonomy\\jungle-cat\\jg (76).jpg\n",
      "C:\\Users\\ishaa\\OneDrive\\Documents\\Deep Learning\\Felis_Taxonomy\\Felis_Taxonomy\\jungle-cat\\jg (77).jpg\n",
      "C:\\Users\\ishaa\\OneDrive\\Documents\\Deep Learning\\Felis_Taxonomy\\Felis_Taxonomy\\jungle-cat\\jg (78).jpg\n",
      "C:\\Users\\ishaa\\OneDrive\\Documents\\Deep Learning\\Felis_Taxonomy\\Felis_Taxonomy\\jungle-cat\\jg (79).jpg\n",
      "C:\\Users\\ishaa\\OneDrive\\Documents\\Deep Learning\\Felis_Taxonomy\\Felis_Taxonomy\\jungle-cat\\jg (8).jpg\n",
      "C:\\Users\\ishaa\\OneDrive\\Documents\\Deep Learning\\Felis_Taxonomy\\Felis_Taxonomy\\jungle-cat\\jg (80).jpg\n",
      "C:\\Users\\ishaa\\OneDrive\\Documents\\Deep Learning\\Felis_Taxonomy\\Felis_Taxonomy\\jungle-cat\\jg (81).jpg\n",
      "C:\\Users\\ishaa\\OneDrive\\Documents\\Deep Learning\\Felis_Taxonomy\\Felis_Taxonomy\\jungle-cat\\jg (82).jpg\n",
      "C:\\Users\\ishaa\\OneDrive\\Documents\\Deep Learning\\Felis_Taxonomy\\Felis_Taxonomy\\jungle-cat\\jg (83).jpg\n",
      "C:\\Users\\ishaa\\OneDrive\\Documents\\Deep Learning\\Felis_Taxonomy\\Felis_Taxonomy\\jungle-cat\\jg (84).jpg\n",
      "C:\\Users\\ishaa\\OneDrive\\Documents\\Deep Learning\\Felis_Taxonomy\\Felis_Taxonomy\\jungle-cat\\jg (85).jpg\n",
      "C:\\Users\\ishaa\\OneDrive\\Documents\\Deep Learning\\Felis_Taxonomy\\Felis_Taxonomy\\jungle-cat\\jg (86).jpg\n",
      "C:\\Users\\ishaa\\OneDrive\\Documents\\Deep Learning\\Felis_Taxonomy\\Felis_Taxonomy\\jungle-cat\\jg (9).jpg\n",
      "C:\\Users\\ishaa\\OneDrive\\Documents\\Deep Learning\\Felis_Taxonomy\\Felis_Taxonomy\\sand-cat\\sd (1).jpg\n",
      "C:\\Users\\ishaa\\OneDrive\\Documents\\Deep Learning\\Felis_Taxonomy\\Felis_Taxonomy\\sand-cat\\sd (10).jpg\n",
      "C:\\Users\\ishaa\\OneDrive\\Documents\\Deep Learning\\Felis_Taxonomy\\Felis_Taxonomy\\sand-cat\\sd (11).jpg\n",
      "C:\\Users\\ishaa\\OneDrive\\Documents\\Deep Learning\\Felis_Taxonomy\\Felis_Taxonomy\\sand-cat\\sd (12).jpg\n",
      "C:\\Users\\ishaa\\OneDrive\\Documents\\Deep Learning\\Felis_Taxonomy\\Felis_Taxonomy\\sand-cat\\sd (13).jpg\n",
      "C:\\Users\\ishaa\\OneDrive\\Documents\\Deep Learning\\Felis_Taxonomy\\Felis_Taxonomy\\sand-cat\\sd (14).jpg\n",
      "C:\\Users\\ishaa\\OneDrive\\Documents\\Deep Learning\\Felis_Taxonomy\\Felis_Taxonomy\\sand-cat\\sd (15).jpg\n",
      "C:\\Users\\ishaa\\OneDrive\\Documents\\Deep Learning\\Felis_Taxonomy\\Felis_Taxonomy\\sand-cat\\sd (16).jpg\n",
      "C:\\Users\\ishaa\\OneDrive\\Documents\\Deep Learning\\Felis_Taxonomy\\Felis_Taxonomy\\sand-cat\\sd (17).jpg\n",
      "C:\\Users\\ishaa\\OneDrive\\Documents\\Deep Learning\\Felis_Taxonomy\\Felis_Taxonomy\\sand-cat\\sd (18).jpg\n",
      "C:\\Users\\ishaa\\OneDrive\\Documents\\Deep Learning\\Felis_Taxonomy\\Felis_Taxonomy\\sand-cat\\sd (19).jpg\n",
      "C:\\Users\\ishaa\\OneDrive\\Documents\\Deep Learning\\Felis_Taxonomy\\Felis_Taxonomy\\sand-cat\\sd (2).jpg\n",
      "C:\\Users\\ishaa\\OneDrive\\Documents\\Deep Learning\\Felis_Taxonomy\\Felis_Taxonomy\\sand-cat\\sd (20).jpg\n",
      "C:\\Users\\ishaa\\OneDrive\\Documents\\Deep Learning\\Felis_Taxonomy\\Felis_Taxonomy\\sand-cat\\sd (21).jpg\n",
      "C:\\Users\\ishaa\\OneDrive\\Documents\\Deep Learning\\Felis_Taxonomy\\Felis_Taxonomy\\sand-cat\\sd (22).jpg\n",
      "C:\\Users\\ishaa\\OneDrive\\Documents\\Deep Learning\\Felis_Taxonomy\\Felis_Taxonomy\\sand-cat\\sd (23).jpg\n",
      "C:\\Users\\ishaa\\OneDrive\\Documents\\Deep Learning\\Felis_Taxonomy\\Felis_Taxonomy\\sand-cat\\sd (24).jpg\n",
      "C:\\Users\\ishaa\\OneDrive\\Documents\\Deep Learning\\Felis_Taxonomy\\Felis_Taxonomy\\sand-cat\\sd (25).jpg\n",
      "C:\\Users\\ishaa\\OneDrive\\Documents\\Deep Learning\\Felis_Taxonomy\\Felis_Taxonomy\\sand-cat\\sd (26).jpg\n",
      "C:\\Users\\ishaa\\OneDrive\\Documents\\Deep Learning\\Felis_Taxonomy\\Felis_Taxonomy\\sand-cat\\sd (27).jpg\n",
      "C:\\Users\\ishaa\\OneDrive\\Documents\\Deep Learning\\Felis_Taxonomy\\Felis_Taxonomy\\sand-cat\\sd (28).jpg\n",
      "C:\\Users\\ishaa\\OneDrive\\Documents\\Deep Learning\\Felis_Taxonomy\\Felis_Taxonomy\\sand-cat\\sd (29).jpg\n",
      "C:\\Users\\ishaa\\OneDrive\\Documents\\Deep Learning\\Felis_Taxonomy\\Felis_Taxonomy\\sand-cat\\sd (3).jpg\n",
      "C:\\Users\\ishaa\\OneDrive\\Documents\\Deep Learning\\Felis_Taxonomy\\Felis_Taxonomy\\sand-cat\\sd (30).jpg\n",
      "C:\\Users\\ishaa\\OneDrive\\Documents\\Deep Learning\\Felis_Taxonomy\\Felis_Taxonomy\\sand-cat\\sd (31).jpg\n",
      "C:\\Users\\ishaa\\OneDrive\\Documents\\Deep Learning\\Felis_Taxonomy\\Felis_Taxonomy\\sand-cat\\sd (32).jpg\n",
      "C:\\Users\\ishaa\\OneDrive\\Documents\\Deep Learning\\Felis_Taxonomy\\Felis_Taxonomy\\sand-cat\\sd (33).jpg\n",
      "C:\\Users\\ishaa\\OneDrive\\Documents\\Deep Learning\\Felis_Taxonomy\\Felis_Taxonomy\\sand-cat\\sd (34).jpg\n",
      "C:\\Users\\ishaa\\OneDrive\\Documents\\Deep Learning\\Felis_Taxonomy\\Felis_Taxonomy\\sand-cat\\sd (35).jpg\n",
      "C:\\Users\\ishaa\\OneDrive\\Documents\\Deep Learning\\Felis_Taxonomy\\Felis_Taxonomy\\sand-cat\\sd (36).jpg\n",
      "C:\\Users\\ishaa\\OneDrive\\Documents\\Deep Learning\\Felis_Taxonomy\\Felis_Taxonomy\\sand-cat\\sd (37).jpg\n",
      "C:\\Users\\ishaa\\OneDrive\\Documents\\Deep Learning\\Felis_Taxonomy\\Felis_Taxonomy\\sand-cat\\sd (38).jpg\n",
      "C:\\Users\\ishaa\\OneDrive\\Documents\\Deep Learning\\Felis_Taxonomy\\Felis_Taxonomy\\sand-cat\\sd (39).jpg\n",
      "C:\\Users\\ishaa\\OneDrive\\Documents\\Deep Learning\\Felis_Taxonomy\\Felis_Taxonomy\\sand-cat\\sd (4).jpg\n",
      "C:\\Users\\ishaa\\OneDrive\\Documents\\Deep Learning\\Felis_Taxonomy\\Felis_Taxonomy\\sand-cat\\sd (40).jpg\n",
      "C:\\Users\\ishaa\\OneDrive\\Documents\\Deep Learning\\Felis_Taxonomy\\Felis_Taxonomy\\sand-cat\\sd (41).jpg\n",
      "C:\\Users\\ishaa\\OneDrive\\Documents\\Deep Learning\\Felis_Taxonomy\\Felis_Taxonomy\\sand-cat\\sd (42).jpg\n",
      "C:\\Users\\ishaa\\OneDrive\\Documents\\Deep Learning\\Felis_Taxonomy\\Felis_Taxonomy\\sand-cat\\sd (43).jpg\n",
      "C:\\Users\\ishaa\\OneDrive\\Documents\\Deep Learning\\Felis_Taxonomy\\Felis_Taxonomy\\sand-cat\\sd (44).jpg\n",
      "C:\\Users\\ishaa\\OneDrive\\Documents\\Deep Learning\\Felis_Taxonomy\\Felis_Taxonomy\\sand-cat\\sd (45).jpg\n",
      "C:\\Users\\ishaa\\OneDrive\\Documents\\Deep Learning\\Felis_Taxonomy\\Felis_Taxonomy\\sand-cat\\sd (46).jpg\n",
      "C:\\Users\\ishaa\\OneDrive\\Documents\\Deep Learning\\Felis_Taxonomy\\Felis_Taxonomy\\sand-cat\\sd (47).jpg\n",
      "C:\\Users\\ishaa\\OneDrive\\Documents\\Deep Learning\\Felis_Taxonomy\\Felis_Taxonomy\\sand-cat\\sd (48).jpg\n",
      "C:\\Users\\ishaa\\OneDrive\\Documents\\Deep Learning\\Felis_Taxonomy\\Felis_Taxonomy\\sand-cat\\sd (49).jpg\n",
      "C:\\Users\\ishaa\\OneDrive\\Documents\\Deep Learning\\Felis_Taxonomy\\Felis_Taxonomy\\sand-cat\\sd (5).jpg\n",
      "C:\\Users\\ishaa\\OneDrive\\Documents\\Deep Learning\\Felis_Taxonomy\\Felis_Taxonomy\\sand-cat\\sd (50).jpg\n",
      "C:\\Users\\ishaa\\OneDrive\\Documents\\Deep Learning\\Felis_Taxonomy\\Felis_Taxonomy\\sand-cat\\sd (51).jpg\n",
      "C:\\Users\\ishaa\\OneDrive\\Documents\\Deep Learning\\Felis_Taxonomy\\Felis_Taxonomy\\sand-cat\\sd (52).jpg\n",
      "C:\\Users\\ishaa\\OneDrive\\Documents\\Deep Learning\\Felis_Taxonomy\\Felis_Taxonomy\\sand-cat\\sd (53).jpg\n",
      "C:\\Users\\ishaa\\OneDrive\\Documents\\Deep Learning\\Felis_Taxonomy\\Felis_Taxonomy\\sand-cat\\sd (54).jpg\n",
      "C:\\Users\\ishaa\\OneDrive\\Documents\\Deep Learning\\Felis_Taxonomy\\Felis_Taxonomy\\sand-cat\\sd (55).jpg\n",
      "C:\\Users\\ishaa\\OneDrive\\Documents\\Deep Learning\\Felis_Taxonomy\\Felis_Taxonomy\\sand-cat\\sd (56).jpg\n",
      "C:\\Users\\ishaa\\OneDrive\\Documents\\Deep Learning\\Felis_Taxonomy\\Felis_Taxonomy\\sand-cat\\sd (57).jpg\n",
      "C:\\Users\\ishaa\\OneDrive\\Documents\\Deep Learning\\Felis_Taxonomy\\Felis_Taxonomy\\sand-cat\\sd (58).jpg\n",
      "C:\\Users\\ishaa\\OneDrive\\Documents\\Deep Learning\\Felis_Taxonomy\\Felis_Taxonomy\\sand-cat\\sd (59).jpg\n",
      "C:\\Users\\ishaa\\OneDrive\\Documents\\Deep Learning\\Felis_Taxonomy\\Felis_Taxonomy\\sand-cat\\sd (6).jpg\n",
      "C:\\Users\\ishaa\\OneDrive\\Documents\\Deep Learning\\Felis_Taxonomy\\Felis_Taxonomy\\sand-cat\\sd (60).jpg\n",
      "C:\\Users\\ishaa\\OneDrive\\Documents\\Deep Learning\\Felis_Taxonomy\\Felis_Taxonomy\\sand-cat\\sd (61).jpg\n",
      "C:\\Users\\ishaa\\OneDrive\\Documents\\Deep Learning\\Felis_Taxonomy\\Felis_Taxonomy\\sand-cat\\sd (62).jpg\n",
      "C:\\Users\\ishaa\\OneDrive\\Documents\\Deep Learning\\Felis_Taxonomy\\Felis_Taxonomy\\sand-cat\\sd (63).jpg\n",
      "C:\\Users\\ishaa\\OneDrive\\Documents\\Deep Learning\\Felis_Taxonomy\\Felis_Taxonomy\\sand-cat\\sd (64).jpg\n",
      "C:\\Users\\ishaa\\OneDrive\\Documents\\Deep Learning\\Felis_Taxonomy\\Felis_Taxonomy\\sand-cat\\sd (65).jpg\n",
      "C:\\Users\\ishaa\\OneDrive\\Documents\\Deep Learning\\Felis_Taxonomy\\Felis_Taxonomy\\sand-cat\\sd (66).jpg\n",
      "C:\\Users\\ishaa\\OneDrive\\Documents\\Deep Learning\\Felis_Taxonomy\\Felis_Taxonomy\\sand-cat\\sd (67).jpg\n",
      "C:\\Users\\ishaa\\OneDrive\\Documents\\Deep Learning\\Felis_Taxonomy\\Felis_Taxonomy\\sand-cat\\sd (68).jpg\n",
      "C:\\Users\\ishaa\\OneDrive\\Documents\\Deep Learning\\Felis_Taxonomy\\Felis_Taxonomy\\sand-cat\\sd (69).jpg\n",
      "C:\\Users\\ishaa\\OneDrive\\Documents\\Deep Learning\\Felis_Taxonomy\\Felis_Taxonomy\\sand-cat\\sd (7).jpg\n",
      "C:\\Users\\ishaa\\OneDrive\\Documents\\Deep Learning\\Felis_Taxonomy\\Felis_Taxonomy\\sand-cat\\sd (70).jpg\n",
      "C:\\Users\\ishaa\\OneDrive\\Documents\\Deep Learning\\Felis_Taxonomy\\Felis_Taxonomy\\sand-cat\\sd (71).jpg\n",
      "C:\\Users\\ishaa\\OneDrive\\Documents\\Deep Learning\\Felis_Taxonomy\\Felis_Taxonomy\\sand-cat\\sd (72).jpg\n",
      "C:\\Users\\ishaa\\OneDrive\\Documents\\Deep Learning\\Felis_Taxonomy\\Felis_Taxonomy\\sand-cat\\sd (8).jpg\n",
      "C:\\Users\\ishaa\\OneDrive\\Documents\\Deep Learning\\Felis_Taxonomy\\Felis_Taxonomy\\sand-cat\\sd (9).jpg\n"
     ]
    }
   ],
   "source": [
    "imgFiles = glob.glob(r'C:\\Users\\ishaa\\OneDrive\\Documents\\Deep Learning\\Felis_Taxonomy\\Felis_Taxonomy/*/*.jpg')\n",
    "\n",
    "\n",
    "for item in imgFiles:\n",
    "    print(item)"
   ]
  },
  {
   "cell_type": "code",
   "execution_count": 143,
   "id": "cf45fbc7",
   "metadata": {},
   "outputs": [],
   "source": [
    "def load_image(item):\n",
    "    X_i = Image.open(item) \n",
    "    X_i = X_i.resize((299,299))\n",
    "    X_i = np.array(X_i) / 255.0 # Normalize to range 0.0 to 1.0 (not stretching, only scaling)\n",
    "     \n",
    "    return X_i"
   ]
  },
  {
   "cell_type": "code",
   "execution_count": 127,
   "id": "5fc7e5a5",
   "metadata": {},
   "outputs": [],
   "source": [
    "import numpy as np"
   ]
  },
  {
   "cell_type": "code",
   "execution_count": 139,
   "id": "5d282b32",
   "metadata": {},
   "outputs": [],
   "source": [
    "def Ensemble_Predict(image):\n",
    "\n",
    "    pred_1 = ensemble_model1.predict(np.expand_dims(image, axis=0))\n",
    "    pred_2 = ensemble_model2.predict(np.expand_dims(image, axis=0))\n",
    "    pred_3 = ensemble_model3.predict(np.expand_dims(image, axis=0))\n",
    "\n",
    "    \n",
    "    ensemble_pred = (pred_1 + pred_2 + pred_3) / 3.0  # Adjust based on the number of models\n",
    "\n",
    "    \n",
    "    predicted_class = np.argmax(ensemble_pred, axis=1)[0]\n",
    "    \n",
    "    print(predicted_class)\n",
    "\n",
    "    \n",
    "    return class_labels[predicted_class]"
   ]
  },
  {
   "cell_type": "code",
   "execution_count": 144,
   "id": "a47820ec",
   "metadata": {},
   "outputs": [
    {
     "name": "stdout",
     "output_type": "stream",
     "text": [
      "1/1 [==============================] - 0s 189ms/step\n",
      "1/1 [==============================] - 0s 333ms/step\n",
      "1/1 [==============================] - 0s 144ms/step\n",
      "4\n",
      "Class of the Image is predicted to be: european-wildcat\n"
     ]
    }
   ],
   "source": [
    "import random\n",
    "test_img = random.choice(X_test_std)\n",
    "pred = Ensemble_Predict(test_img)\n",
    "print(\"Class of the Image is predicted to be:\",pred)"
   ]
  }
 ],
 "metadata": {
  "kernelspec": {
   "display_name": "Python 3 (ipykernel)",
   "language": "python",
   "name": "python3"
  },
  "language_info": {
   "codemirror_mode": {
    "name": "ipython",
    "version": 3
   },
   "file_extension": ".py",
   "mimetype": "text/x-python",
   "name": "python",
   "nbconvert_exporter": "python",
   "pygments_lexer": "ipython3",
   "version": "3.9.7"
  }
 },
 "nbformat": 4,
 "nbformat_minor": 5
}
